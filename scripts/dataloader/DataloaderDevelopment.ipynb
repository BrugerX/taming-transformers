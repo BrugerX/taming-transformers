{
 "cells": [
  {
   "cell_type": "code",
   "execution_count": 29,
   "metadata": {
    "collapsed": true,
    "pycharm": {
     "name": "#%%\n"
    }
   },
   "outputs": [],
   "source": [
    "import gdrive.GDriveHandler as GDH\n",
    "import pandas as pd\n",
    "import numpy as np"
   ]
  },
  {
   "cell_type": "code",
   "execution_count": 2,
   "outputs": [
    {
     "ename": "SyntaxError",
     "evalue": "incomplete input (760247023.py, line 3)",
     "output_type": "error",
     "traceback": [
      "\u001B[1;36m  Cell \u001B[1;32mIn[2], line 3\u001B[1;36m\u001B[0m\n\u001B[1;33m    \u001B[0m\n\u001B[1;37m    ^\u001B[0m\n\u001B[1;31mSyntaxError\u001B[0m\u001B[1;31m:\u001B[0m incomplete input\n"
     ]
    }
   ],
   "source": [
    "class DasetMarker:\n",
    "    def __init__(self):\n"
   ],
   "metadata": {
    "collapsed": false,
    "pycharm": {
     "name": "#%%\n"
    }
   }
  },
  {
   "cell_type": "code",
   "execution_count": null,
   "outputs": [],
   "source": [
    "def mark_preloaded_purposes(ID_DF,text_path,label):\n"
   ],
   "metadata": {
    "collapsed": false,
    "pycharm": {
     "name": "#%%\n"
    }
   }
  },
  {
   "cell_type": "code",
   "execution_count": 52,
   "outputs": [
    {
     "data": {
      "text/plain": "Unnamed: 0  mimeType   size     id                                 name       attributes\n0           image/png  1366486  1QRzbQp8wj8QwrOnm8a4JPNIkA9s_EJdd  00999.png  []            0.000014\n46665       image/png  1389457  1UMxMw7qBc3XeWVvKlkb4EgDCSkjUTHIo  46334.png  []            0.000014\n46671       image/png  1498620  1SBA9BhN-cRjiH6_VlEfBM2_ylhZ5zI_w  46328.png  []            0.000014\n46670       image/png  1547190  1SJsDZqnknmolkvSKBnH_jufirVgv5nvC  46329.png  []            0.000014\n46669       image/png  1622902  1UWBSZ0uw4Wv34XMbZuCmzi9vcxbWBaE8  46330.png  []            0.000014\n                                                                                              ...   \n23338       image/png  1299784  1QlFxws_r0yA4relaK8xvXdp1oCXQoh5z  23661.png  []            0.000014\n23339       image/png  1485626  1RrH4kpkQBfKE1pWdiVYVh34i53OU_v0f  23660.png  []            0.000014\n23340       image/png  1487745  1O4May86WCdky_YCJUV4hKUWidbyjg8H4  23659.png  []            0.000014\n23341       image/png  1498884  1QbEzXKAkSXd53ZEmMZxGxN03BU0S7-o0  23658.png  []            0.000014\n69999       image/png  1600151  1ZpsW_lpn4eBrTBoh44rZ33uQqw87nYrU  69000.png  []            0.000014\nName: proportion, Length: 70000, dtype: float64"
     },
     "execution_count": 52,
     "metadata": {},
     "output_type": "execute_result"
    }
   ],
   "source": [
    "FFHQImages_path = r\"C:\\Users\\DripTooHard\\PycharmProjects\\taming-transformers2\\scripts\\dataloader\\gdrive\\FFHQimages.csv\"\n",
    "ID_DF = pd.read_csv(FFHQImages_path,index_col=False)\n",
    "ID_DF.value_counts(normalize=True)"
   ],
   "metadata": {
    "collapsed": false,
    "pycharm": {
     "name": "#%%\n"
    }
   }
  },
  {
   "cell_type": "code",
   "execution_count": 69,
   "outputs": [],
   "source": [
    "def mark_predefined_purpose_txt(ID_DF,purpose_txt_path,purpose):\n",
    "    with open(purpose_txt_path) as f:\n",
    "        names_list = f.read().split(\"\\n\")\n",
    "        for name in names_list:\n",
    "            ID_DF.loc[ID_DF[\"name\"] == name, \"purpose\"] = purpose\n",
    "\n",
    "def mark_purpose(ID_DF,purpose_proportions,overwrite = True):\n",
    "\n",
    "    #First we make sure, that the proportions sum to 1/100%\n",
    "    sum_proportions = 0\n",
    "    for proportion in purpose_proportions.values():\n",
    "        sum_proportions += proportion\n",
    "    if(sum_proportions != 1):\n",
    "        raise Exception(f\"Sum of proportions of validation, test and training dataset doesn't sum to 100%.\\n Instead it sums to: {sum_proportions}\")\n",
    "\n",
    "    if(overwrite):\n",
    "        ID_DF[\"purpose\"] = None\n",
    "\n",
    "    size_of_DF = ID_DF.shape[0]\n",
    "\n",
    "    for purpose, proportion in purpose_proportions.items():\n",
    "        #TODO: We take % of the unmarked, but after the first iteration, this percentage will be lower than the intended percentage\n",
    "        rows_to_mark = int(size_of_DF*proportion)\n",
    "        unmarked_rows = ID_DF[ID_DF[\"purpose\"].isna()]\n",
    "\n",
    "        if(unmarked_rows.shape[0]<rows_to_mark):\n",
    "            rows_to_mark = unmarked_rows.shape[0]\n",
    "\n",
    "        indices_to_update = unmarked_rows.sample(rows_to_mark).index\n",
    "        ID_DF.loc[indices_to_update, \"purpose\"] = purpose\n",
    "\n"
   ],
   "metadata": {
    "collapsed": false,
    "pycharm": {
     "name": "#%%\n"
    }
   }
  },
  {
   "cell_type": "code",
   "execution_count": 56,
   "outputs": [
    {
     "ename": "KeyboardInterrupt",
     "evalue": "",
     "output_type": "error",
     "traceback": [
      "\u001B[1;31m---------------------------------------------------------------------------\u001B[0m",
      "\u001B[1;31mKeyboardInterrupt\u001B[0m                         Traceback (most recent call last)",
      "Cell \u001B[1;32mIn[56], line 3\u001B[0m\n\u001B[0;32m      1\u001B[0m ffhq_train_path \u001B[38;5;241m=\u001B[39m \u001B[38;5;124mr\u001B[39m\u001B[38;5;124m\"\u001B[39m\u001B[38;5;124mC:\u001B[39m\u001B[38;5;124m\\\u001B[39m\u001B[38;5;124mUsers\u001B[39m\u001B[38;5;124m\\\u001B[39m\u001B[38;5;124mDripTooHard\u001B[39m\u001B[38;5;124m\\\u001B[39m\u001B[38;5;124mPycharmProjects\u001B[39m\u001B[38;5;124m\\\u001B[39m\u001B[38;5;124mtaming-transformers2\u001B[39m\u001B[38;5;124m\\\u001B[39m\u001B[38;5;124mdata\u001B[39m\u001B[38;5;124m\\\u001B[39m\u001B[38;5;124mffhqvalidation.txt\u001B[39m\u001B[38;5;124m\"\u001B[39m\n\u001B[1;32m----> 3\u001B[0m \u001B[43mmark_predefined_purpose_txt\u001B[49m\u001B[43m(\u001B[49m\u001B[43mID_DF\u001B[49m\u001B[43m,\u001B[49m\u001B[43mffhq_train_path\u001B[49m\u001B[43m,\u001B[49m\u001B[38;5;124;43m\"\u001B[39;49m\u001B[38;5;124;43mval\u001B[39;49m\u001B[38;5;124;43m\"\u001B[39;49m\u001B[43m)\u001B[49m\n",
      "Cell \u001B[1;32mIn[53], line 5\u001B[0m, in \u001B[0;36mmark_predefined_purpose_txt\u001B[1;34m(ID_DF, purpose_txt_path, purpose)\u001B[0m\n\u001B[0;32m      3\u001B[0m names_list \u001B[38;5;241m=\u001B[39m f\u001B[38;5;241m.\u001B[39mread()\u001B[38;5;241m.\u001B[39msplit(\u001B[38;5;124m\"\u001B[39m\u001B[38;5;130;01m\\n\u001B[39;00m\u001B[38;5;124m\"\u001B[39m)\n\u001B[0;32m      4\u001B[0m \u001B[38;5;28;01mfor\u001B[39;00m name \u001B[38;5;129;01min\u001B[39;00m names_list:\n\u001B[1;32m----> 5\u001B[0m     \u001B[43mID_DF\u001B[49m\u001B[38;5;241;43m.\u001B[39;49m\u001B[43mloc\u001B[49m\u001B[43m[\u001B[49m\u001B[43mID_DF\u001B[49m\u001B[43m[\u001B[49m\u001B[38;5;124;43m\"\u001B[39;49m\u001B[38;5;124;43mname\u001B[39;49m\u001B[38;5;124;43m\"\u001B[39;49m\u001B[43m]\u001B[49m\u001B[43m \u001B[49m\u001B[38;5;241;43m==\u001B[39;49m\u001B[43m \u001B[49m\u001B[43mname\u001B[49m\u001B[43m,\u001B[49m\u001B[43m \u001B[49m\u001B[38;5;124;43m\"\u001B[39;49m\u001B[38;5;124;43mpurpose\u001B[39;49m\u001B[38;5;124;43m\"\u001B[39;49m\u001B[43m]\u001B[49m \u001B[38;5;241m=\u001B[39m purpose\n",
      "File \u001B[1;32m~\\PycharmProjects\\taming-transformers2\\venv\\lib\\site-packages\\pandas\\core\\indexing.py:885\u001B[0m, in \u001B[0;36m_LocationIndexer.__setitem__\u001B[1;34m(self, key, value)\u001B[0m\n\u001B[0;32m    882\u001B[0m \u001B[38;5;28mself\u001B[39m\u001B[38;5;241m.\u001B[39m_has_valid_setitem_indexer(key)\n\u001B[0;32m    884\u001B[0m iloc \u001B[38;5;241m=\u001B[39m \u001B[38;5;28mself\u001B[39m \u001B[38;5;28;01mif\u001B[39;00m \u001B[38;5;28mself\u001B[39m\u001B[38;5;241m.\u001B[39mname \u001B[38;5;241m==\u001B[39m \u001B[38;5;124m\"\u001B[39m\u001B[38;5;124miloc\u001B[39m\u001B[38;5;124m\"\u001B[39m \u001B[38;5;28;01melse\u001B[39;00m \u001B[38;5;28mself\u001B[39m\u001B[38;5;241m.\u001B[39mobj\u001B[38;5;241m.\u001B[39miloc\n\u001B[1;32m--> 885\u001B[0m \u001B[43miloc\u001B[49m\u001B[38;5;241;43m.\u001B[39;49m\u001B[43m_setitem_with_indexer\u001B[49m\u001B[43m(\u001B[49m\u001B[43mindexer\u001B[49m\u001B[43m,\u001B[49m\u001B[43m \u001B[49m\u001B[43mvalue\u001B[49m\u001B[43m,\u001B[49m\u001B[43m \u001B[49m\u001B[38;5;28;43mself\u001B[39;49m\u001B[38;5;241;43m.\u001B[39;49m\u001B[43mname\u001B[49m\u001B[43m)\u001B[49m\n",
      "File \u001B[1;32m~\\PycharmProjects\\taming-transformers2\\venv\\lib\\site-packages\\pandas\\core\\indexing.py:1893\u001B[0m, in \u001B[0;36m_iLocIndexer._setitem_with_indexer\u001B[1;34m(self, indexer, value, name)\u001B[0m\n\u001B[0;32m   1890\u001B[0m \u001B[38;5;66;03m# align and set the values\u001B[39;00m\n\u001B[0;32m   1891\u001B[0m \u001B[38;5;28;01mif\u001B[39;00m take_split_path:\n\u001B[0;32m   1892\u001B[0m     \u001B[38;5;66;03m# We have to operate column-wise\u001B[39;00m\n\u001B[1;32m-> 1893\u001B[0m     \u001B[38;5;28;43mself\u001B[39;49m\u001B[38;5;241;43m.\u001B[39;49m\u001B[43m_setitem_with_indexer_split_path\u001B[49m\u001B[43m(\u001B[49m\u001B[43mindexer\u001B[49m\u001B[43m,\u001B[49m\u001B[43m \u001B[49m\u001B[43mvalue\u001B[49m\u001B[43m,\u001B[49m\u001B[43m \u001B[49m\u001B[43mname\u001B[49m\u001B[43m)\u001B[49m\n\u001B[0;32m   1894\u001B[0m \u001B[38;5;28;01melse\u001B[39;00m:\n\u001B[0;32m   1895\u001B[0m     \u001B[38;5;28mself\u001B[39m\u001B[38;5;241m.\u001B[39m_setitem_single_block(indexer, value, name)\n",
      "File \u001B[1;32m~\\PycharmProjects\\taming-transformers2\\venv\\lib\\site-packages\\pandas\\core\\indexing.py:1921\u001B[0m, in \u001B[0;36m_iLocIndexer._setitem_with_indexer_split_path\u001B[1;34m(self, indexer, value, name)\u001B[0m\n\u001B[0;32m   1918\u001B[0m ilocs \u001B[38;5;241m=\u001B[39m \u001B[38;5;28mself\u001B[39m\u001B[38;5;241m.\u001B[39m_ensure_iterable_column_indexer(info_axis)\n\u001B[0;32m   1920\u001B[0m pi \u001B[38;5;241m=\u001B[39m indexer[\u001B[38;5;241m0\u001B[39m]\n\u001B[1;32m-> 1921\u001B[0m lplane_indexer \u001B[38;5;241m=\u001B[39m \u001B[43mlength_of_indexer\u001B[49m\u001B[43m(\u001B[49m\u001B[43mpi\u001B[49m\u001B[43m,\u001B[49m\u001B[43m \u001B[49m\u001B[38;5;28;43mself\u001B[39;49m\u001B[38;5;241;43m.\u001B[39;49m\u001B[43mobj\u001B[49m\u001B[38;5;241;43m.\u001B[39;49m\u001B[43mindex\u001B[49m\u001B[43m)\u001B[49m\n\u001B[0;32m   1922\u001B[0m \u001B[38;5;66;03m# lplane_indexer gives the expected length of obj[indexer[0]]\u001B[39;00m\n\u001B[0;32m   1923\u001B[0m \n\u001B[0;32m   1924\u001B[0m \u001B[38;5;66;03m# we need an iterable, with a ndim of at least 1\u001B[39;00m\n\u001B[0;32m   1925\u001B[0m \u001B[38;5;66;03m# eg. don't pass through np.array(0)\u001B[39;00m\n\u001B[0;32m   1926\u001B[0m \u001B[38;5;28;01mif\u001B[39;00m is_list_like_indexer(value) \u001B[38;5;129;01mand\u001B[39;00m \u001B[38;5;28mgetattr\u001B[39m(value, \u001B[38;5;124m\"\u001B[39m\u001B[38;5;124mndim\u001B[39m\u001B[38;5;124m\"\u001B[39m, \u001B[38;5;241m1\u001B[39m) \u001B[38;5;241m>\u001B[39m \u001B[38;5;241m0\u001B[39m:\n",
      "File \u001B[1;32m~\\PycharmProjects\\taming-transformers2\\venv\\lib\\site-packages\\pandas\\core\\indexers\\utils.py:323\u001B[0m, in \u001B[0;36mlength_of_indexer\u001B[1;34m(indexer, target)\u001B[0m\n\u001B[0;32m    319\u001B[0m         indexer \u001B[38;5;241m=\u001B[39m np\u001B[38;5;241m.\u001B[39marray(indexer)\n\u001B[0;32m    321\u001B[0m     \u001B[38;5;28;01mif\u001B[39;00m indexer\u001B[38;5;241m.\u001B[39mdtype \u001B[38;5;241m==\u001B[39m \u001B[38;5;28mbool\u001B[39m:\n\u001B[0;32m    322\u001B[0m         \u001B[38;5;66;03m# GH#25774\u001B[39;00m\n\u001B[1;32m--> 323\u001B[0m         \u001B[38;5;28;01mreturn\u001B[39;00m \u001B[43mindexer\u001B[49m\u001B[38;5;241;43m.\u001B[39;49m\u001B[43msum\u001B[49m\u001B[43m(\u001B[49m\u001B[43m)\u001B[49m\n\u001B[0;32m    324\u001B[0m     \u001B[38;5;28;01mreturn\u001B[39;00m \u001B[38;5;28mlen\u001B[39m(indexer)\n\u001B[0;32m    325\u001B[0m \u001B[38;5;28;01melif\u001B[39;00m \u001B[38;5;28misinstance\u001B[39m(indexer, \u001B[38;5;28mrange\u001B[39m):\n",
      "File \u001B[1;32m~\\PycharmProjects\\taming-transformers2\\venv\\lib\\site-packages\\numpy\\core\\_methods.py:49\u001B[0m, in \u001B[0;36m_sum\u001B[1;34m(a, axis, dtype, out, keepdims, initial, where)\u001B[0m\n\u001B[0;32m     47\u001B[0m \u001B[38;5;28;01mdef\u001B[39;00m \u001B[38;5;21m_sum\u001B[39m(a, axis\u001B[38;5;241m=\u001B[39m\u001B[38;5;28;01mNone\u001B[39;00m, dtype\u001B[38;5;241m=\u001B[39m\u001B[38;5;28;01mNone\u001B[39;00m, out\u001B[38;5;241m=\u001B[39m\u001B[38;5;28;01mNone\u001B[39;00m, keepdims\u001B[38;5;241m=\u001B[39m\u001B[38;5;28;01mFalse\u001B[39;00m,\n\u001B[0;32m     48\u001B[0m          initial\u001B[38;5;241m=\u001B[39m_NoValue, where\u001B[38;5;241m=\u001B[39m\u001B[38;5;28;01mTrue\u001B[39;00m):\n\u001B[1;32m---> 49\u001B[0m     \u001B[38;5;28;01mreturn\u001B[39;00m \u001B[43mumr_sum\u001B[49m\u001B[43m(\u001B[49m\u001B[43ma\u001B[49m\u001B[43m,\u001B[49m\u001B[43m \u001B[49m\u001B[43maxis\u001B[49m\u001B[43m,\u001B[49m\u001B[43m \u001B[49m\u001B[43mdtype\u001B[49m\u001B[43m,\u001B[49m\u001B[43m \u001B[49m\u001B[43mout\u001B[49m\u001B[43m,\u001B[49m\u001B[43m \u001B[49m\u001B[43mkeepdims\u001B[49m\u001B[43m,\u001B[49m\u001B[43m \u001B[49m\u001B[43minitial\u001B[49m\u001B[43m,\u001B[49m\u001B[43m \u001B[49m\u001B[43mwhere\u001B[49m\u001B[43m)\u001B[49m\n",
      "\u001B[1;31mKeyboardInterrupt\u001B[0m: "
     ]
    }
   ],
   "source": [
    "ffhq_train_path = r\"C:\\Users\\DripTooHard\\PycharmProjects\\taming-transformers2\\data\\ffhqvalidation.txt\"\n",
    "\n",
    "mark_predefined_purpose_txt(ID_DF,ffhq_train_path,\"val\")"
   ],
   "metadata": {
    "collapsed": false,
    "pycharm": {
     "name": "#%%\n"
    }
   }
  },
  {
   "cell_type": "code",
   "execution_count": 65,
   "outputs": [
    {
     "name": "stdout",
     "output_type": "stream",
     "text": [
      "val 0.2\n",
      "test 0.3\n",
      "train 0.5\n"
     ]
    }
   ],
   "source": [
    "purposes_proportions = {\"val\":0.2,\"test\":0.3,\"train\":0.5}\n",
    "for key,value in purposes_proportions.items():\n",
    "    print(key,value)"
   ],
   "metadata": {
    "collapsed": false,
    "pycharm": {
     "name": "#%%\n"
    }
   }
  },
  {
   "cell_type": "code",
   "execution_count": 71,
   "outputs": [
    {
     "data": {
      "text/plain": "purpose\ntrain    0.5\ntest     0.3\nval      0.2\nName: proportion, dtype: float64"
     },
     "execution_count": 71,
     "metadata": {},
     "output_type": "execute_result"
    }
   ],
   "source": [
    "mark_purpose(ID_DF,purposes_proportions)\n",
    "ID_DF[\"purpose\"].value_counts(normalize=True)"
   ],
   "metadata": {
    "collapsed": false,
    "pycharm": {
     "name": "#%%\n"
    }
   }
  },
  {
   "cell_type": "code",
   "execution_count": 23,
   "outputs": [],
   "source": [
    "for value in purposes_proportions.values():\n"
   ],
   "metadata": {
    "collapsed": false,
    "pycharm": {
     "name": "#%%\n"
    }
   }
  },
  {
   "cell_type": "code",
   "execution_count": 68,
   "outputs": [
    {
     "ename": "ValueError",
     "evalue": "Cannot take a larger sample than population when 'replace=False'",
     "output_type": "error",
     "traceback": [
      "\u001B[1;31m---------------------------------------------------------------------------\u001B[0m",
      "\u001B[1;31mValueError\u001B[0m                                Traceback (most recent call last)",
      "Cell \u001B[1;32mIn[68], line 1\u001B[0m\n\u001B[1;32m----> 1\u001B[0m \u001B[43mID_DF\u001B[49m\u001B[38;5;241;43m.\u001B[39;49m\u001B[43msample\u001B[49m\u001B[43m(\u001B[49m\u001B[38;5;241;43m1000000\u001B[39;49m\u001B[43m)\u001B[49m\n",
      "File \u001B[1;32m~\\PycharmProjects\\taming-transformers2\\venv\\lib\\site-packages\\pandas\\core\\generic.py:6029\u001B[0m, in \u001B[0;36mNDFrame.sample\u001B[1;34m(self, n, frac, replace, weights, random_state, axis, ignore_index)\u001B[0m\n\u001B[0;32m   6026\u001B[0m \u001B[38;5;28;01mif\u001B[39;00m weights \u001B[38;5;129;01mis\u001B[39;00m \u001B[38;5;129;01mnot\u001B[39;00m \u001B[38;5;28;01mNone\u001B[39;00m:\n\u001B[0;32m   6027\u001B[0m     weights \u001B[38;5;241m=\u001B[39m sample\u001B[38;5;241m.\u001B[39mpreprocess_weights(\u001B[38;5;28mself\u001B[39m, weights, axis)\n\u001B[1;32m-> 6029\u001B[0m sampled_indices \u001B[38;5;241m=\u001B[39m \u001B[43msample\u001B[49m\u001B[38;5;241;43m.\u001B[39;49m\u001B[43msample\u001B[49m\u001B[43m(\u001B[49m\u001B[43mobj_len\u001B[49m\u001B[43m,\u001B[49m\u001B[43m \u001B[49m\u001B[43msize\u001B[49m\u001B[43m,\u001B[49m\u001B[43m \u001B[49m\u001B[43mreplace\u001B[49m\u001B[43m,\u001B[49m\u001B[43m \u001B[49m\u001B[43mweights\u001B[49m\u001B[43m,\u001B[49m\u001B[43m \u001B[49m\u001B[43mrs\u001B[49m\u001B[43m)\u001B[49m\n\u001B[0;32m   6030\u001B[0m result \u001B[38;5;241m=\u001B[39m \u001B[38;5;28mself\u001B[39m\u001B[38;5;241m.\u001B[39mtake(sampled_indices, axis\u001B[38;5;241m=\u001B[39maxis)\n\u001B[0;32m   6032\u001B[0m \u001B[38;5;28;01mif\u001B[39;00m ignore_index:\n",
      "File \u001B[1;32m~\\PycharmProjects\\taming-transformers2\\venv\\lib\\site-packages\\pandas\\core\\sample.py:152\u001B[0m, in \u001B[0;36msample\u001B[1;34m(obj_len, size, replace, weights, random_state)\u001B[0m\n\u001B[0;32m    149\u001B[0m     \u001B[38;5;28;01melse\u001B[39;00m:\n\u001B[0;32m    150\u001B[0m         \u001B[38;5;28;01mraise\u001B[39;00m \u001B[38;5;167;01mValueError\u001B[39;00m(\u001B[38;5;124m\"\u001B[39m\u001B[38;5;124mInvalid weights: weights sum to zero\u001B[39m\u001B[38;5;124m\"\u001B[39m)\n\u001B[1;32m--> 152\u001B[0m \u001B[38;5;28;01mreturn\u001B[39;00m \u001B[43mrandom_state\u001B[49m\u001B[38;5;241;43m.\u001B[39;49m\u001B[43mchoice\u001B[49m\u001B[43m(\u001B[49m\u001B[43mobj_len\u001B[49m\u001B[43m,\u001B[49m\u001B[43m \u001B[49m\u001B[43msize\u001B[49m\u001B[38;5;241;43m=\u001B[39;49m\u001B[43msize\u001B[49m\u001B[43m,\u001B[49m\u001B[43m \u001B[49m\u001B[43mreplace\u001B[49m\u001B[38;5;241;43m=\u001B[39;49m\u001B[43mreplace\u001B[49m\u001B[43m,\u001B[49m\u001B[43m \u001B[49m\u001B[43mp\u001B[49m\u001B[38;5;241;43m=\u001B[39;49m\u001B[43mweights\u001B[49m\u001B[43m)\u001B[49m\u001B[38;5;241m.\u001B[39mastype(\n\u001B[0;32m    153\u001B[0m     np\u001B[38;5;241m.\u001B[39mintp, copy\u001B[38;5;241m=\u001B[39m\u001B[38;5;28;01mFalse\u001B[39;00m\n\u001B[0;32m    154\u001B[0m )\n",
      "File \u001B[1;32mnumpy\\\\random\\\\mtrand.pyx:1000\u001B[0m, in \u001B[0;36mnumpy.random.mtrand.RandomState.choice\u001B[1;34m()\u001B[0m\n",
      "\u001B[1;31mValueError\u001B[0m: Cannot take a larger sample than population when 'replace=False'"
     ]
    }
   ],
   "source": [
    "ID_DF.sample(1000000)"
   ],
   "metadata": {
    "collapsed": false,
    "pycharm": {
     "name": "#%%\n"
    }
   }
  },
  {
   "cell_type": "code",
   "execution_count": null,
   "outputs": [],
   "source": [],
   "metadata": {
    "collapsed": false,
    "pycharm": {
     "name": "#%%\n"
    }
   }
  }
 ],
 "metadata": {
  "kernelspec": {
   "display_name": "Python 3",
   "language": "python",
   "name": "python3"
  },
  "language_info": {
   "codemirror_mode": {
    "name": "ipython",
    "version": 2
   },
   "file_extension": ".py",
   "mimetype": "text/x-python",
   "name": "python",
   "nbconvert_exporter": "python",
   "pygments_lexer": "ipython2",
   "version": "2.7.6"
  }
 },
 "nbformat": 4,
 "nbformat_minor": 0
}