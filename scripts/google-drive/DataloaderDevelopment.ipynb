{
 "cells": [
  {
   "cell_type": "markdown",
   "source": [
    "## Script for downloading image IDs from a shared Google Drive\n",
    "\n",
    "In this Drive we first copy the FFHQ dataset from the original shared folder and add it to our own drive, so we have the files permanently in order to avoid any sort of changes to the dataset while we're still conducting the experiment.\n",
    "\n",
    "We then iterate over all the images and add their Google Drive IDs to a dataframe."
   ],
   "metadata": {
    "collapsed": false,
    "pycharm": {
     "name": "#%% md\n"
    }
   }
  },
  {
   "cell_type": "code",
   "execution_count": 1,
   "outputs": [],
   "source": [
    "import os.path\n",
    "\n",
    "from google.auth.transport.requests import Request\n",
    "from google.oauth2.credentials import Credentials\n",
    "from google_auth_oauthlib.flow import InstalledAppFlow\n",
    "from googleapiclient.discovery import build\n",
    "from googleapiclient.errors import HttpError\n",
    "\n",
    "import pandas as pd"
   ],
   "metadata": {
    "collapsed": false,
    "pycharm": {
     "name": "#%%\n"
    }
   }
  },
  {
   "cell_type": "code",
   "execution_count": 2,
   "outputs": [],
   "source": [
    "import io\n",
    "from googleapiclient.discovery import build\n",
    "from googleapiclient.errors import HttpError\n",
    "from googleapiclient.http import MediaIoBaseDownload\n",
    "import io\n",
    "from PIL import Image\n",
    "import numpy as np\n",
    "\n",
    "\n",
    "class GDrive_Handler:\n",
    "    \"\"\"\n",
    "    @arg scopes: The scopes of the API service\n",
    "    @arg credentials_path: Client credentials.\n",
    "    @arg write_new_token: If set to True it will write a new access token based off of the scopes. This will open a pop-up window requesting authorization of your email.\n",
    "\n",
    "    If set to false, it will use the old access token, which were created using the previous scopes.\n",
    "\n",
    "    \"\"\"\n",
    "\n",
    "    def __init__(self,scopes,credentials_path,write_new_token = True):\n",
    "        self.credentials = self.get_drive_credentials(credentials_path,scopes,write_new_token=write_new_token)\n",
    "        self.service = build(\"drive\", \"v3\", credentials=self.credentials)\n",
    "\n",
    "    def get_drive_credentials(self,credentials_path,SCOPES,write_new_token = True):\n",
    "      \"\"\"Shows basic usage of the Drive v3 API.\n",
    "      Prints the names and ids of the first 10 files the user has access to.\n",
    "      \"\"\"\n",
    "      creds = None\n",
    "      # The file token.json stores the user's access and refresh tokens, and is\n",
    "      # created automatically when the authorization flow completes for the first\n",
    "      # time.\n",
    "      if os.path.exists(\"token.json\") and not write_new_token:\n",
    "        creds = Credentials.from_authorized_user_file(\"token.json\", SCOPES)\n",
    "      # If there are no (valid) credentials available, let the user log in.\n",
    "      if not creds or not creds.valid:\n",
    "        if creds and creds.expired and creds.refresh_token:\n",
    "          creds.refresh(Request())\n",
    "        else:\n",
    "          flow = InstalledAppFlow.from_client_secrets_file(\n",
    "              credentials_path, SCOPES\n",
    "          )\n",
    "          creds = flow.run_local_server(port=0)\n",
    "        # Save the credentials for the next run\n",
    "        with open(\"token.json\", \"w\") as token:\n",
    "          token.write(creds.to_json())\n",
    "\n",
    "        return creds\n",
    "\n",
    "    def download_file(self, real_file_id):\n",
    "        try:\n",
    "            # Create drive api client\n",
    "            file_id = real_file_id\n",
    "\n",
    "            request = self.service.files().get_media(fileId=file_id)\n",
    "            file = io.BytesIO()\n",
    "            downloader = MediaIoBaseDownload(file, request)\n",
    "            done = False\n",
    "            while not done:\n",
    "                status, done = downloader.next_chunk()\n",
    "                print(f\"Download {int(status.progress() * 100)}%.\")\n",
    "\n",
    "            # Convert the downloaded bytes to an image\n",
    "            file.seek(0)  # Go to the beginning of the IO object\n",
    "            image = Image.open(file)\n",
    "\n",
    "            # Convert the image to a numpy array\n",
    "            image_array = np.array(image)\n",
    "\n",
    "            return image_array\n",
    "\n",
    "        except HttpError as error:\n",
    "            # Print more detailed error information\n",
    "            print(f\"An error occurred: {error}\")\n",
    "            if error.resp.status in [403, 500, 503]:\n",
    "                print(f\"Reason: {error.resp.reason}\")\n",
    "                print(f\"Body: {error.resp.body}\")\n",
    "                # Try to parse and print out detailed error message\n",
    "                try:\n",
    "                    error_details = json.loads(error.resp.body.decode(\"utf-8\"))\n",
    "                    print(json.dumps(error_details, indent=2))\n",
    "                except json.JSONDecodeError:\n",
    "                    print(\"Could not parse error details.\")\n",
    "            return None"
   ],
   "metadata": {
    "collapsed": false,
    "pycharm": {
     "name": "#%%\n"
    }
   }
  },
  {
   "cell_type": "code",
   "execution_count": 9,
   "outputs": [],
   "source": [
    "# If modifying these scopes, delete the file token.json.\n",
    "SCOPES = [\"https://www.googleapis.com/auth/drive.readonly\"]\n",
    "creds_path = r\"C:\\Users\\DripTooHard\\PycharmProjects\\taming-transformers2\\scripts\\google-drive\\credentials.json\"\n",
    "drive_api = GDrive_Handler(scopes=SCOPES,credentials_path=creds_path,write_new_token=False)\n",
    "\n",
    "#service = build(\"drive\", \"v3\", credentials=creds)"
   ],
   "metadata": {
    "collapsed": false,
    "pycharm": {
     "name": "#%%\n"
    }
   }
  },
  {
   "cell_type": "code",
   "execution_count": 31,
   "outputs": [],
   "source": [
    "top_path_id = \"1tZUcXDBeOibC6jcMCtgRRz67pzrAHeHL\"\n",
    "page_token = None\n",
    "files = []\n"
   ],
   "metadata": {
    "collapsed": false,
    "pycharm": {
     "name": "#%%\n"
    }
   }
  },
  {
   "cell_type": "code",
   "execution_count": 7,
   "outputs": [
    {
     "name": "stdout",
     "output_type": "stream",
     "text": [
      "JSON data loaded successfully:\n",
      "{'token': 'ya29.a0AfB_byALRAGF_ex0mSUcdt6i0kRKhd61MzrEsMFTiezf_vKWNZy7oomL41Z98Zi3yAaJObFYSGKZSvt2dri2eTRHySML4JGGzHLn9WdgLOQCO1KEQRu1Xanpu3qi4fMxDtCmJXAv0nGY4-FnWzGdvkwPE8k7B1jW4zDTaCgYKAfwSARESFQHGX2MiW2oQCV4AgGmkvexheqxT6g0171', 'refresh_token': '1//09uc21TAmKja0CgYIARAAGAkSNwF-L9IrgLuHJEY_65bKBOYF-b6sWjea2Q_-Uq2IB_AzbV1iG1lK0n2z5bZW8CXdT99bnrJ4f3g', 'token_uri': 'https://oauth2.googleapis.com/token', 'client_id': '100836400561-2fs1u2j0ietgp5o5vbf2phgnnrcl29ka.apps.googleusercontent.com', 'client_secret': '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', 'scopes': ['https://www.googleapis.com/auth/drive'], 'expiry': '2023-11-28T01:08:01.636494Z'}\n"
     ]
    }
   ],
   "source": [
    "import json\n",
    "\n",
    "def load_json(file_path):\n",
    "    try:\n",
    "        with open(file_path, 'r', encoding='utf-8') as file:\n",
    "            data = json.load(file)\n",
    "            return data\n",
    "    except FileNotFoundError:\n",
    "        print(f\"The file at {file_path} was not found.\")\n",
    "        return None\n",
    "    except json.JSONDecodeError:\n",
    "        print(f\"Error decoding JSON from file at {file_path}.\")\n",
    "        return None\n",
    "    except Exception as e:\n",
    "        print(f\"An error occurred: {e}\")\n",
    "        return None\n",
    "\n",
    "# Example usage\n",
    "file_path = 'token.json'\n",
    "data = load_json(file_path)\n",
    "\n",
    "if data is not None:\n",
    "    print(\"JSON data loaded successfully:\")\n",
    "    print(data)"
   ],
   "metadata": {
    "collapsed": false,
    "pycharm": {
     "name": "#%%\n"
    }
   }
  },
  {
   "cell_type": "code",
   "execution_count": 59,
   "outputs": [],
   "source": [
    "def copy_folder(service, source_folder_id, destination_folder_id):\n",
    "    \"\"\"Copy all contents from the source folder to the destination folder.\"\"\"\n",
    "    results = service.files().list(\n",
    "        q=f\"'{source_folder_id}' in parents\",\n",
    "        fields=\"nextPageToken, files(id, name, mimeType)\"\n",
    "    ).execute()\n",
    "\n",
    "    for file in results.get('files', []):\n",
    "        if file['mimeType'] == 'application/vnd.google-apps.folder':\n",
    "            # Check if the subfolder already exists in the destination\n",
    "            subfolder_id = folder_exists(service, file['name'], destination_folder_id)\n",
    "            if not subfolder_id:\n",
    "                # Create a new subfolder in the destination\n",
    "                subfolder_id = create_folder(service, file['name'], destination_folder_id)\n",
    "            # Recursively copy the contents of the subfolder\n",
    "            copy_folder(service, file['id'], subfolder_id)\n",
    "        else:\n",
    "            # Copy file to the destination folder\n",
    "            copy_file_to_folder(service, file['id'], file['name'], destination_folder_id)\n",
    "\n",
    "def create_folder(service, folder_name, parent_folder_id):\n",
    "    \"\"\"Create a folder under the specified parent folder.\"\"\"\n",
    "    file_metadata = {\n",
    "        'name': folder_name,\n",
    "        'mimeType': 'application/vnd.google-apps.folder',\n",
    "        'parents': [parent_folder_id]\n",
    "    }\n",
    "    folder = service.files().create(body=file_metadata, fields='id').execute()\n",
    "    return folder.get('id')\n",
    "\n",
    "def folder_exists(service, folder_name, parent_folder_id):\n",
    "    \"\"\"Check if a folder with the specified name exists under the parent folder.\"\"\"\n",
    "    query = f\"name = '{folder_name}' and '{parent_folder_id}' in parents and mimeType = 'application/vnd.google-apps.folder' and trashed = false\"\n",
    "    print(f\"Executing query: {query}\")  # Debugging line\n",
    "    try:\n",
    "        response = service.files().list(q=query, fields=\"files(id)\").execute()\n",
    "        files = response.get('files', [])\n",
    "        return files[0]['id'] if files else None\n",
    "    except Exception as e:\n",
    "        print(f\"An error occurred: {e}\")\n",
    "        return None\n",
    "\n",
    "\n"
   ],
   "metadata": {
    "collapsed": false,
    "pycharm": {
     "name": "#%%\n"
    }
   }
  },
  {
   "cell_type": "code",
   "execution_count": 60,
   "outputs": [],
   "source": [
    "def file_exists(service, file_name, parent_folder_id):\n",
    "    \"\"\"Check if a file with the specified name exists under the parent folder.\"\"\"\n",
    "    query = f\"name = '{file_name}' and '{parent_folder_id}' in parents and mimeType != 'application/vnd.google-apps.folder' and trashed = false\"\n",
    "    response = service.files().list(q=query, fields=\"files(id)\").execute()\n",
    "    files = response.get('files', [])\n",
    "    return files[0]['id'] if files else None\n",
    "\n",
    "def copy_file_to_folder(service, file_id, file_name, parent_folder_id):\n",
    "    \"\"\"Copy a file to the specified folder if it doesn't already exist there.\"\"\"\n",
    "    if not file_exists(service, file_name, parent_folder_id):\n",
    "        file_metadata = {'parents': [parent_folder_id]}\n",
    "        service.files().copy(fileId=file_id, body=file_metadata).execute()\n",
    "\n",
    "def copy_folder_contents(service, source_folder_id, destination_folder_id):\n",
    "    \"\"\"Copy all contents of a folder (both files and subfolders) to the destination folder.\"\"\"\n",
    "    results = service.files().list(\n",
    "        q=f\"'{source_folder_id}' in parents\",\n",
    "        fields=\"nextPageToken, files(id, name, mimeType)\"\n",
    "    ).execute()\n",
    "\n",
    "    for file in results.get('files', []):\n",
    "        if file['mimeType'] == 'application/vnd.google-apps.folder':\n",
    "            # Check if the subfolder already exists in the destination\n",
    "            subfolder_id = folder_exists(service, file['name'], destination_folder_id)\n",
    "            if not subfolder_id:\n",
    "                # Create a new subfolder in the destination\n",
    "                subfolder_id = create_folder(service, file['name'], destination_folder_id)\n",
    "            # Recursively copy the contents of the subfolder\n",
    "            copy_folder_contents(service, file['id'], subfolder_id)\n",
    "        else:\n",
    "            # Copy file to the destination folder\n",
    "            copy_file_to_folder(service, file['id'], file['name'], destination_folder_id)\n"
   ],
   "metadata": {
    "collapsed": false,
    "pycharm": {
     "name": "#%%\n"
    }
   }
  },
  {
   "cell_type": "code",
   "execution_count": null,
   "outputs": [],
   "source": [
    "# Example usage\n",
    "origin_folder_id = top_path_id  # Replace with the ID of the folder you want to copy\n",
    "destination_folder_name = '1zGn2jaTuM0tJA6jWD8uEUgFeQ4YeUWxT'  # Replace with your desired new folder name\n",
    "copied_folder_id = copy_folder(service, origin_folder_id, destination_folder_name)\n",
    "print(f\"Folder copied successfully. New folder ID: {copied_folder_id}\")\n"
   ],
   "metadata": {
    "collapsed": false,
    "pycharm": {
     "name": "#%%\n"
    }
   }
  },
  {
   "cell_type": "code",
   "execution_count": 100,
   "outputs": [],
   "source": [
    "#For a given folder, it collects all files in that folder\n",
    "def get_all_files_at_layer(service, layer_id):\n",
    "    page_token = None\n",
    "    files = []\n",
    "    while True:\n",
    "        response = service.files().list(\n",
    "            pageSize=1000,\n",
    "            q=f\"'{layer_id}' in parents\",\n",
    "            fields=\"nextPageToken, files(name, id, size, mimeType)\",\n",
    "            pageToken=page_token\n",
    "        ).execute()\n",
    "        files.extend(response.get(\"files\", []))\n",
    "        page_token = response.get(\"nextPageToken\", None)\n",
    "        if not page_token:\n",
    "            return files\n",
    "\n",
    "\n",
    "#For a given folder, it collects all folders and files of image_mime_type at that layer and returns\n",
    "#the files seperated into two arrays, based on whether they're folders or not.\n",
    "#It doesn't search in any subfolders\n",
    "def get_separated_images_folders_at_layer(service, layer_id, image_mime_types):\n",
    "    all_files = get_all_files_at_layer(service, layer_id)\n",
    "    folders, images = [], []\n",
    "    for file in all_files:\n",
    "        if file['mimeType'] in image_mime_types:\n",
    "            images.append(file)\n",
    "        elif file['mimeType'] == 'application/vnd.google-apps.folder':\n",
    "            folders.append(file)\n",
    "    return folders, images\n",
    "\n",
    "\n",
    "#Starting at the top_layer_id folder, it iterates over it and all subfolders and collects all files that have one of the mimetypes in image_mime_types\n",
    "def get_all_image_files(service,top_layer_id,image_mime_types):\n",
    "  folders = [top_layer_id]\n",
    "  images = []\n",
    "\n",
    "  while folders != []:\n",
    "    folder_id = folders.pop()\n",
    "    #In the first loop we feed it a string, while we feed it requests in the remaining\n",
    "    if(type(folder_id) != str):\n",
    "      folder_id = folder_id.get(\"id\")\n",
    "    new_folders,new_images = get_separated_images_folders_at_layer(service,folder_id,image_mime_types)\n",
    "    images += new_images\n",
    "    folders += new_folders\n",
    "  return images\n",
    "\n",
    "def create_dataset_file(service,top_layer_id,image_mime_types,destination_path):\n",
    "  image_files = get_all_image_files(service,top_layer_id,image_mime_types)\n",
    "  images_df = pd.DataFrame.from_dict(image_files)\n",
    "  images_df[\"attributes\"] = \"[]\"\n",
    "  images_df.to_csv(destination_path)\n",
    "\n"
   ],
   "metadata": {
    "collapsed": false,
    "pycharm": {
     "name": "#%%\n"
    }
   }
  },
  {
   "cell_type": "code",
   "execution_count": 98,
   "outputs": [
    {
     "ename": "KeyboardInterrupt",
     "evalue": "",
     "output_type": "error",
     "traceback": [
      "\u001B[1;31m---------------------------------------------------------------------------\u001B[0m",
      "\u001B[1;31mKeyboardInterrupt\u001B[0m                         Traceback (most recent call last)",
      "Cell \u001B[1;32mIn[98], line 3\u001B[0m\n\u001B[0;32m      1\u001B[0m \u001B[38;5;66;03m#print(get_separated_images_folders_at_layer(service,top_path_id,[\"image/png\",\"image/jpg\"]))\u001B[39;00m\n\u001B[1;32m----> 3\u001B[0m images \u001B[38;5;241m=\u001B[39m \u001B[43mget_all_image_files\u001B[49m\u001B[43m(\u001B[49m\u001B[43mservice\u001B[49m\u001B[43m,\u001B[49m\u001B[43mtop_path_id\u001B[49m\u001B[43m,\u001B[49m\u001B[43m[\u001B[49m\u001B[38;5;124;43m\"\u001B[39;49m\u001B[38;5;124;43mimage/png\u001B[39;49m\u001B[38;5;124;43m\"\u001B[39;49m\u001B[43m,\u001B[49m\u001B[38;5;124;43m\"\u001B[39;49m\u001B[38;5;124;43mimage/jpg\u001B[39;49m\u001B[38;5;124;43m\"\u001B[39;49m\u001B[43m]\u001B[49m\u001B[43m)\u001B[49m\n\u001B[0;32m      4\u001B[0m \u001B[38;5;28mprint\u001B[39m(images)\n",
      "Cell \u001B[1;32mIn[97], line 42\u001B[0m, in \u001B[0;36mget_all_image_files\u001B[1;34m(service, top_layer_id, image_mime_types)\u001B[0m\n\u001B[0;32m     40\u001B[0m \u001B[38;5;28;01mif\u001B[39;00m(\u001B[38;5;28mtype\u001B[39m(folder_id) \u001B[38;5;241m!=\u001B[39m \u001B[38;5;28mstr\u001B[39m):\n\u001B[0;32m     41\u001B[0m   folder_id \u001B[38;5;241m=\u001B[39m folder_id\u001B[38;5;241m.\u001B[39mget(\u001B[38;5;124m\"\u001B[39m\u001B[38;5;124mid\u001B[39m\u001B[38;5;124m\"\u001B[39m)\n\u001B[1;32m---> 42\u001B[0m new_folders,new_images \u001B[38;5;241m=\u001B[39m \u001B[43mget_separated_images_folders_at_layer\u001B[49m\u001B[43m(\u001B[49m\u001B[43mservice\u001B[49m\u001B[43m,\u001B[49m\u001B[43mfolder_id\u001B[49m\u001B[43m,\u001B[49m\u001B[43mimage_mime_types\u001B[49m\u001B[43m)\u001B[49m\n\u001B[0;32m     43\u001B[0m images \u001B[38;5;241m+\u001B[39m\u001B[38;5;241m=\u001B[39m new_images\n\u001B[0;32m     44\u001B[0m folders \u001B[38;5;241m+\u001B[39m\u001B[38;5;241m=\u001B[39m new_folders\n",
      "Cell \u001B[1;32mIn[97], line 22\u001B[0m, in \u001B[0;36mget_separated_images_folders_at_layer\u001B[1;34m(service, layer_id, image_mime_types)\u001B[0m\n\u001B[0;32m     21\u001B[0m \u001B[38;5;28;01mdef\u001B[39;00m \u001B[38;5;21mget_separated_images_folders_at_layer\u001B[39m(service, layer_id, image_mime_types):\n\u001B[1;32m---> 22\u001B[0m     all_files \u001B[38;5;241m=\u001B[39m \u001B[43mget_all_files_at_layer\u001B[49m\u001B[43m(\u001B[49m\u001B[43mservice\u001B[49m\u001B[43m,\u001B[49m\u001B[43m \u001B[49m\u001B[43mlayer_id\u001B[49m\u001B[43m)\u001B[49m\n\u001B[0;32m     23\u001B[0m     folders, images \u001B[38;5;241m=\u001B[39m [], []\n\u001B[0;32m     24\u001B[0m     \u001B[38;5;28;01mfor\u001B[39;00m file \u001B[38;5;129;01min\u001B[39;00m all_files:\n",
      "Cell \u001B[1;32mIn[97], line 11\u001B[0m, in \u001B[0;36mget_all_files_at_layer\u001B[1;34m(service, layer_id)\u001B[0m\n\u001B[0;32m      4\u001B[0m files \u001B[38;5;241m=\u001B[39m []\n\u001B[0;32m      5\u001B[0m \u001B[38;5;28;01mwhile\u001B[39;00m \u001B[38;5;28;01mTrue\u001B[39;00m:\n\u001B[0;32m      6\u001B[0m     response \u001B[38;5;241m=\u001B[39m \u001B[43mservice\u001B[49m\u001B[38;5;241;43m.\u001B[39;49m\u001B[43mfiles\u001B[49m\u001B[43m(\u001B[49m\u001B[43m)\u001B[49m\u001B[38;5;241;43m.\u001B[39;49m\u001B[43mlist\u001B[49m\u001B[43m(\u001B[49m\n\u001B[0;32m      7\u001B[0m \u001B[43m        \u001B[49m\u001B[43mpageSize\u001B[49m\u001B[38;5;241;43m=\u001B[39;49m\u001B[38;5;241;43m1000\u001B[39;49m\u001B[43m,\u001B[49m\n\u001B[0;32m      8\u001B[0m \u001B[43m        \u001B[49m\u001B[43mq\u001B[49m\u001B[38;5;241;43m=\u001B[39;49m\u001B[38;5;124;43mf\u001B[39;49m\u001B[38;5;124;43m\"\u001B[39;49m\u001B[38;5;124;43m'\u001B[39;49m\u001B[38;5;132;43;01m{\u001B[39;49;00m\u001B[43mlayer_id\u001B[49m\u001B[38;5;132;43;01m}\u001B[39;49;00m\u001B[38;5;124;43m'\u001B[39;49m\u001B[38;5;124;43m in parents\u001B[39;49m\u001B[38;5;124;43m\"\u001B[39;49m\u001B[43m,\u001B[49m\n\u001B[0;32m      9\u001B[0m \u001B[43m        \u001B[49m\u001B[43mfields\u001B[49m\u001B[38;5;241;43m=\u001B[39;49m\u001B[38;5;124;43m\"\u001B[39;49m\u001B[38;5;124;43mnextPageToken, files(name, id, size, mimeType)\u001B[39;49m\u001B[38;5;124;43m\"\u001B[39;49m\u001B[43m,\u001B[49m\n\u001B[0;32m     10\u001B[0m \u001B[43m        \u001B[49m\u001B[43mpageToken\u001B[49m\u001B[38;5;241;43m=\u001B[39;49m\u001B[43mpage_token\u001B[49m\n\u001B[1;32m---> 11\u001B[0m \u001B[43m    \u001B[49m\u001B[43m)\u001B[49m\u001B[38;5;241;43m.\u001B[39;49m\u001B[43mexecute\u001B[49m\u001B[43m(\u001B[49m\u001B[43m)\u001B[49m\n\u001B[0;32m     12\u001B[0m     files\u001B[38;5;241m.\u001B[39mextend(response\u001B[38;5;241m.\u001B[39mget(\u001B[38;5;124m\"\u001B[39m\u001B[38;5;124mfiles\u001B[39m\u001B[38;5;124m\"\u001B[39m, []))\n\u001B[0;32m     13\u001B[0m     page_token \u001B[38;5;241m=\u001B[39m response\u001B[38;5;241m.\u001B[39mget(\u001B[38;5;124m\"\u001B[39m\u001B[38;5;124mnextPageToken\u001B[39m\u001B[38;5;124m\"\u001B[39m, \u001B[38;5;28;01mNone\u001B[39;00m)\n",
      "File \u001B[1;32m~\\PycharmProjects\\taming-transformers2\\venv\\lib\\site-packages\\googleapiclient\\_helpers.py:134\u001B[0m, in \u001B[0;36mpositional.<locals>.positional_decorator.<locals>.positional_wrapper\u001B[1;34m(*args, **kwargs)\u001B[0m\n\u001B[0;32m    132\u001B[0m     \u001B[38;5;28;01melif\u001B[39;00m positional_parameters_enforcement \u001B[38;5;241m==\u001B[39m POSITIONAL_WARNING:\n\u001B[0;32m    133\u001B[0m         logger\u001B[38;5;241m.\u001B[39mwarning(message)\n\u001B[1;32m--> 134\u001B[0m \u001B[38;5;28;01mreturn\u001B[39;00m wrapped(\u001B[38;5;241m*\u001B[39margs, \u001B[38;5;241m*\u001B[39m\u001B[38;5;241m*\u001B[39mkwargs)\n",
      "File \u001B[1;32m~\\PycharmProjects\\taming-transformers2\\venv\\lib\\site-packages\\googleapiclient\\http.py:920\u001B[0m, in \u001B[0;36mHttpRequest.execute\u001B[1;34m(self, http, num_retries)\u001B[0m\n\u001B[0;32m    917\u001B[0m     \u001B[38;5;28mself\u001B[39m\u001B[38;5;241m.\u001B[39mheaders[\u001B[38;5;124m\"\u001B[39m\u001B[38;5;124mcontent-length\u001B[39m\u001B[38;5;124m\"\u001B[39m] \u001B[38;5;241m=\u001B[39m \u001B[38;5;28mstr\u001B[39m(\u001B[38;5;28mlen\u001B[39m(\u001B[38;5;28mself\u001B[39m\u001B[38;5;241m.\u001B[39mbody))\n\u001B[0;32m    919\u001B[0m \u001B[38;5;66;03m# Handle retries for server-side errors.\u001B[39;00m\n\u001B[1;32m--> 920\u001B[0m resp, content \u001B[38;5;241m=\u001B[39m \u001B[43m_retry_request\u001B[49m\u001B[43m(\u001B[49m\n\u001B[0;32m    921\u001B[0m \u001B[43m    \u001B[49m\u001B[43mhttp\u001B[49m\u001B[43m,\u001B[49m\n\u001B[0;32m    922\u001B[0m \u001B[43m    \u001B[49m\u001B[43mnum_retries\u001B[49m\u001B[43m,\u001B[49m\n\u001B[0;32m    923\u001B[0m \u001B[43m    \u001B[49m\u001B[38;5;124;43m\"\u001B[39;49m\u001B[38;5;124;43mrequest\u001B[39;49m\u001B[38;5;124;43m\"\u001B[39;49m\u001B[43m,\u001B[49m\n\u001B[0;32m    924\u001B[0m \u001B[43m    \u001B[49m\u001B[38;5;28;43mself\u001B[39;49m\u001B[38;5;241;43m.\u001B[39;49m\u001B[43m_sleep\u001B[49m\u001B[43m,\u001B[49m\n\u001B[0;32m    925\u001B[0m \u001B[43m    \u001B[49m\u001B[38;5;28;43mself\u001B[39;49m\u001B[38;5;241;43m.\u001B[39;49m\u001B[43m_rand\u001B[49m\u001B[43m,\u001B[49m\n\u001B[0;32m    926\u001B[0m \u001B[43m    \u001B[49m\u001B[38;5;28;43mstr\u001B[39;49m\u001B[43m(\u001B[49m\u001B[38;5;28;43mself\u001B[39;49m\u001B[38;5;241;43m.\u001B[39;49m\u001B[43muri\u001B[49m\u001B[43m)\u001B[49m\u001B[43m,\u001B[49m\n\u001B[0;32m    927\u001B[0m \u001B[43m    \u001B[49m\u001B[43mmethod\u001B[49m\u001B[38;5;241;43m=\u001B[39;49m\u001B[38;5;28;43mstr\u001B[39;49m\u001B[43m(\u001B[49m\u001B[38;5;28;43mself\u001B[39;49m\u001B[38;5;241;43m.\u001B[39;49m\u001B[43mmethod\u001B[49m\u001B[43m)\u001B[49m\u001B[43m,\u001B[49m\n\u001B[0;32m    928\u001B[0m \u001B[43m    \u001B[49m\u001B[43mbody\u001B[49m\u001B[38;5;241;43m=\u001B[39;49m\u001B[38;5;28;43mself\u001B[39;49m\u001B[38;5;241;43m.\u001B[39;49m\u001B[43mbody\u001B[49m\u001B[43m,\u001B[49m\n\u001B[0;32m    929\u001B[0m \u001B[43m    \u001B[49m\u001B[43mheaders\u001B[49m\u001B[38;5;241;43m=\u001B[39;49m\u001B[38;5;28;43mself\u001B[39;49m\u001B[38;5;241;43m.\u001B[39;49m\u001B[43mheaders\u001B[49m\u001B[43m,\u001B[49m\n\u001B[0;32m    930\u001B[0m \u001B[43m\u001B[49m\u001B[43m)\u001B[49m\n\u001B[0;32m    932\u001B[0m \u001B[38;5;28;01mfor\u001B[39;00m callback \u001B[38;5;129;01min\u001B[39;00m \u001B[38;5;28mself\u001B[39m\u001B[38;5;241m.\u001B[39mresponse_callbacks:\n\u001B[0;32m    933\u001B[0m     callback(resp)\n",
      "File \u001B[1;32m~\\PycharmProjects\\taming-transformers2\\venv\\lib\\site-packages\\googleapiclient\\http.py:191\u001B[0m, in \u001B[0;36m_retry_request\u001B[1;34m(http, num_retries, req_type, sleep, rand, uri, method, *args, **kwargs)\u001B[0m\n\u001B[0;32m    189\u001B[0m \u001B[38;5;28;01mtry\u001B[39;00m:\n\u001B[0;32m    190\u001B[0m     exception \u001B[38;5;241m=\u001B[39m \u001B[38;5;28;01mNone\u001B[39;00m\n\u001B[1;32m--> 191\u001B[0m     resp, content \u001B[38;5;241m=\u001B[39m http\u001B[38;5;241m.\u001B[39mrequest(uri, method, \u001B[38;5;241m*\u001B[39margs, \u001B[38;5;241m*\u001B[39m\u001B[38;5;241m*\u001B[39mkwargs)\n\u001B[0;32m    192\u001B[0m \u001B[38;5;66;03m# Retry on SSL errors and socket timeout errors.\u001B[39;00m\n\u001B[0;32m    193\u001B[0m \u001B[38;5;28;01mexcept\u001B[39;00m _ssl_SSLError \u001B[38;5;28;01mas\u001B[39;00m ssl_error:\n",
      "File \u001B[1;32m~\\PycharmProjects\\taming-transformers2\\venv\\lib\\site-packages\\google_auth_httplib2.py:218\u001B[0m, in \u001B[0;36mAuthorizedHttp.request\u001B[1;34m(self, uri, method, body, headers, redirections, connection_type, **kwargs)\u001B[0m\n\u001B[0;32m    215\u001B[0m     body_stream_position \u001B[38;5;241m=\u001B[39m body\u001B[38;5;241m.\u001B[39mtell()\n\u001B[0;32m    217\u001B[0m \u001B[38;5;66;03m# Make the request.\u001B[39;00m\n\u001B[1;32m--> 218\u001B[0m response, content \u001B[38;5;241m=\u001B[39m \u001B[38;5;28mself\u001B[39m\u001B[38;5;241m.\u001B[39mhttp\u001B[38;5;241m.\u001B[39mrequest(\n\u001B[0;32m    219\u001B[0m     uri,\n\u001B[0;32m    220\u001B[0m     method,\n\u001B[0;32m    221\u001B[0m     body\u001B[38;5;241m=\u001B[39mbody,\n\u001B[0;32m    222\u001B[0m     headers\u001B[38;5;241m=\u001B[39mrequest_headers,\n\u001B[0;32m    223\u001B[0m     redirections\u001B[38;5;241m=\u001B[39mredirections,\n\u001B[0;32m    224\u001B[0m     connection_type\u001B[38;5;241m=\u001B[39mconnection_type,\n\u001B[0;32m    225\u001B[0m     \u001B[38;5;241m*\u001B[39m\u001B[38;5;241m*\u001B[39mkwargs\n\u001B[0;32m    226\u001B[0m )\n\u001B[0;32m    228\u001B[0m \u001B[38;5;66;03m# If the response indicated that the credentials needed to be\u001B[39;00m\n\u001B[0;32m    229\u001B[0m \u001B[38;5;66;03m# refreshed, then refresh the credentials and re-attempt the\u001B[39;00m\n\u001B[0;32m    230\u001B[0m \u001B[38;5;66;03m# request.\u001B[39;00m\n\u001B[0;32m    231\u001B[0m \u001B[38;5;66;03m# A stored token may expire between the time it is retrieved and\u001B[39;00m\n\u001B[0;32m    232\u001B[0m \u001B[38;5;66;03m# the time the request is made, so we may need to try twice.\u001B[39;00m\n\u001B[0;32m    233\u001B[0m \u001B[38;5;28;01mif\u001B[39;00m (\n\u001B[0;32m    234\u001B[0m     response\u001B[38;5;241m.\u001B[39mstatus \u001B[38;5;129;01min\u001B[39;00m \u001B[38;5;28mself\u001B[39m\u001B[38;5;241m.\u001B[39m_refresh_status_codes\n\u001B[0;32m    235\u001B[0m     \u001B[38;5;129;01mand\u001B[39;00m _credential_refresh_attempt \u001B[38;5;241m<\u001B[39m \u001B[38;5;28mself\u001B[39m\u001B[38;5;241m.\u001B[39m_max_refresh_attempts\n\u001B[0;32m    236\u001B[0m ):\n",
      "File \u001B[1;32m~\\PycharmProjects\\taming-transformers2\\venv\\lib\\site-packages\\httplib2\\__init__.py:1724\u001B[0m, in \u001B[0;36mHttp.request\u001B[1;34m(self, uri, method, body, headers, redirections, connection_type)\u001B[0m\n\u001B[0;32m   1722\u001B[0m             content \u001B[38;5;241m=\u001B[39m \u001B[38;5;124mb\u001B[39m\u001B[38;5;124m\"\u001B[39m\u001B[38;5;124m\"\u001B[39m\n\u001B[0;32m   1723\u001B[0m         \u001B[38;5;28;01melse\u001B[39;00m:\n\u001B[1;32m-> 1724\u001B[0m             (response, content) \u001B[38;5;241m=\u001B[39m \u001B[38;5;28;43mself\u001B[39;49m\u001B[38;5;241;43m.\u001B[39;49m\u001B[43m_request\u001B[49m\u001B[43m(\u001B[49m\n\u001B[0;32m   1725\u001B[0m \u001B[43m                \u001B[49m\u001B[43mconn\u001B[49m\u001B[43m,\u001B[49m\u001B[43m \u001B[49m\u001B[43mauthority\u001B[49m\u001B[43m,\u001B[49m\u001B[43m \u001B[49m\u001B[43muri\u001B[49m\u001B[43m,\u001B[49m\u001B[43m \u001B[49m\u001B[43mrequest_uri\u001B[49m\u001B[43m,\u001B[49m\u001B[43m \u001B[49m\u001B[43mmethod\u001B[49m\u001B[43m,\u001B[49m\u001B[43m \u001B[49m\u001B[43mbody\u001B[49m\u001B[43m,\u001B[49m\u001B[43m \u001B[49m\u001B[43mheaders\u001B[49m\u001B[43m,\u001B[49m\u001B[43m \u001B[49m\u001B[43mredirections\u001B[49m\u001B[43m,\u001B[49m\u001B[43m \u001B[49m\u001B[43mcachekey\u001B[49m\u001B[43m,\u001B[49m\n\u001B[0;32m   1726\u001B[0m \u001B[43m            \u001B[49m\u001B[43m)\u001B[49m\n\u001B[0;32m   1727\u001B[0m \u001B[38;5;28;01mexcept\u001B[39;00m \u001B[38;5;167;01mException\u001B[39;00m \u001B[38;5;28;01mas\u001B[39;00m e:\n\u001B[0;32m   1728\u001B[0m     is_timeout \u001B[38;5;241m=\u001B[39m \u001B[38;5;28misinstance\u001B[39m(e, socket\u001B[38;5;241m.\u001B[39mtimeout)\n",
      "File \u001B[1;32m~\\PycharmProjects\\taming-transformers2\\venv\\lib\\site-packages\\httplib2\\__init__.py:1444\u001B[0m, in \u001B[0;36mHttp._request\u001B[1;34m(self, conn, host, absolute_uri, request_uri, method, body, headers, redirections, cachekey)\u001B[0m\n\u001B[0;32m   1441\u001B[0m \u001B[38;5;28;01mif\u001B[39;00m auth:\n\u001B[0;32m   1442\u001B[0m     auth\u001B[38;5;241m.\u001B[39mrequest(method, request_uri, headers, body)\n\u001B[1;32m-> 1444\u001B[0m (response, content) \u001B[38;5;241m=\u001B[39m \u001B[38;5;28;43mself\u001B[39;49m\u001B[38;5;241;43m.\u001B[39;49m\u001B[43m_conn_request\u001B[49m\u001B[43m(\u001B[49m\u001B[43mconn\u001B[49m\u001B[43m,\u001B[49m\u001B[43m \u001B[49m\u001B[43mrequest_uri\u001B[49m\u001B[43m,\u001B[49m\u001B[43m \u001B[49m\u001B[43mmethod\u001B[49m\u001B[43m,\u001B[49m\u001B[43m \u001B[49m\u001B[43mbody\u001B[49m\u001B[43m,\u001B[49m\u001B[43m \u001B[49m\u001B[43mheaders\u001B[49m\u001B[43m)\u001B[49m\n\u001B[0;32m   1446\u001B[0m \u001B[38;5;28;01mif\u001B[39;00m auth:\n\u001B[0;32m   1447\u001B[0m     \u001B[38;5;28;01mif\u001B[39;00m auth\u001B[38;5;241m.\u001B[39mresponse(response, body):\n",
      "File \u001B[1;32m~\\PycharmProjects\\taming-transformers2\\venv\\lib\\site-packages\\httplib2\\__init__.py:1396\u001B[0m, in \u001B[0;36mHttp._conn_request\u001B[1;34m(self, conn, request_uri, method, body, headers)\u001B[0m\n\u001B[0;32m   1394\u001B[0m     \u001B[38;5;28;01mpass\u001B[39;00m\n\u001B[0;32m   1395\u001B[0m \u001B[38;5;28;01mtry\u001B[39;00m:\n\u001B[1;32m-> 1396\u001B[0m     response \u001B[38;5;241m=\u001B[39m \u001B[43mconn\u001B[49m\u001B[38;5;241;43m.\u001B[39;49m\u001B[43mgetresponse\u001B[49m\u001B[43m(\u001B[49m\u001B[43m)\u001B[49m\n\u001B[0;32m   1397\u001B[0m \u001B[38;5;28;01mexcept\u001B[39;00m (http\u001B[38;5;241m.\u001B[39mclient\u001B[38;5;241m.\u001B[39mBadStatusLine, http\u001B[38;5;241m.\u001B[39mclient\u001B[38;5;241m.\u001B[39mResponseNotReady):\n\u001B[0;32m   1398\u001B[0m     \u001B[38;5;66;03m# If we get a BadStatusLine on the first try then that means\u001B[39;00m\n\u001B[0;32m   1399\u001B[0m     \u001B[38;5;66;03m# the connection just went stale, so retry regardless of the\u001B[39;00m\n\u001B[0;32m   1400\u001B[0m     \u001B[38;5;66;03m# number of RETRIES set.\u001B[39;00m\n\u001B[0;32m   1401\u001B[0m     \u001B[38;5;28;01mif\u001B[39;00m \u001B[38;5;129;01mnot\u001B[39;00m seen_bad_status_line \u001B[38;5;129;01mand\u001B[39;00m i \u001B[38;5;241m==\u001B[39m \u001B[38;5;241m1\u001B[39m:\n",
      "File \u001B[1;32m~\\AppData\\Local\\Programs\\Python\\Python310\\lib\\http\\client.py:1374\u001B[0m, in \u001B[0;36mHTTPConnection.getresponse\u001B[1;34m(self)\u001B[0m\n\u001B[0;32m   1372\u001B[0m \u001B[38;5;28;01mtry\u001B[39;00m:\n\u001B[0;32m   1373\u001B[0m     \u001B[38;5;28;01mtry\u001B[39;00m:\n\u001B[1;32m-> 1374\u001B[0m         \u001B[43mresponse\u001B[49m\u001B[38;5;241;43m.\u001B[39;49m\u001B[43mbegin\u001B[49m\u001B[43m(\u001B[49m\u001B[43m)\u001B[49m\n\u001B[0;32m   1375\u001B[0m     \u001B[38;5;28;01mexcept\u001B[39;00m \u001B[38;5;167;01mConnectionError\u001B[39;00m:\n\u001B[0;32m   1376\u001B[0m         \u001B[38;5;28mself\u001B[39m\u001B[38;5;241m.\u001B[39mclose()\n",
      "File \u001B[1;32m~\\AppData\\Local\\Programs\\Python\\Python310\\lib\\http\\client.py:318\u001B[0m, in \u001B[0;36mHTTPResponse.begin\u001B[1;34m(self)\u001B[0m\n\u001B[0;32m    316\u001B[0m \u001B[38;5;66;03m# read until we get a non-100 response\u001B[39;00m\n\u001B[0;32m    317\u001B[0m \u001B[38;5;28;01mwhile\u001B[39;00m \u001B[38;5;28;01mTrue\u001B[39;00m:\n\u001B[1;32m--> 318\u001B[0m     version, status, reason \u001B[38;5;241m=\u001B[39m \u001B[38;5;28;43mself\u001B[39;49m\u001B[38;5;241;43m.\u001B[39;49m\u001B[43m_read_status\u001B[49m\u001B[43m(\u001B[49m\u001B[43m)\u001B[49m\n\u001B[0;32m    319\u001B[0m     \u001B[38;5;28;01mif\u001B[39;00m status \u001B[38;5;241m!=\u001B[39m CONTINUE:\n\u001B[0;32m    320\u001B[0m         \u001B[38;5;28;01mbreak\u001B[39;00m\n",
      "File \u001B[1;32m~\\AppData\\Local\\Programs\\Python\\Python310\\lib\\http\\client.py:279\u001B[0m, in \u001B[0;36mHTTPResponse._read_status\u001B[1;34m(self)\u001B[0m\n\u001B[0;32m    278\u001B[0m \u001B[38;5;28;01mdef\u001B[39;00m \u001B[38;5;21m_read_status\u001B[39m(\u001B[38;5;28mself\u001B[39m):\n\u001B[1;32m--> 279\u001B[0m     line \u001B[38;5;241m=\u001B[39m \u001B[38;5;28mstr\u001B[39m(\u001B[38;5;28;43mself\u001B[39;49m\u001B[38;5;241;43m.\u001B[39;49m\u001B[43mfp\u001B[49m\u001B[38;5;241;43m.\u001B[39;49m\u001B[43mreadline\u001B[49m\u001B[43m(\u001B[49m\u001B[43m_MAXLINE\u001B[49m\u001B[43m \u001B[49m\u001B[38;5;241;43m+\u001B[39;49m\u001B[43m \u001B[49m\u001B[38;5;241;43m1\u001B[39;49m\u001B[43m)\u001B[49m, \u001B[38;5;124m\"\u001B[39m\u001B[38;5;124miso-8859-1\u001B[39m\u001B[38;5;124m\"\u001B[39m)\n\u001B[0;32m    280\u001B[0m     \u001B[38;5;28;01mif\u001B[39;00m \u001B[38;5;28mlen\u001B[39m(line) \u001B[38;5;241m>\u001B[39m _MAXLINE:\n\u001B[0;32m    281\u001B[0m         \u001B[38;5;28;01mraise\u001B[39;00m LineTooLong(\u001B[38;5;124m\"\u001B[39m\u001B[38;5;124mstatus line\u001B[39m\u001B[38;5;124m\"\u001B[39m)\n",
      "File \u001B[1;32m~\\AppData\\Local\\Programs\\Python\\Python310\\lib\\socket.py:705\u001B[0m, in \u001B[0;36mSocketIO.readinto\u001B[1;34m(self, b)\u001B[0m\n\u001B[0;32m    703\u001B[0m \u001B[38;5;28;01mwhile\u001B[39;00m \u001B[38;5;28;01mTrue\u001B[39;00m:\n\u001B[0;32m    704\u001B[0m     \u001B[38;5;28;01mtry\u001B[39;00m:\n\u001B[1;32m--> 705\u001B[0m         \u001B[38;5;28;01mreturn\u001B[39;00m \u001B[38;5;28;43mself\u001B[39;49m\u001B[38;5;241;43m.\u001B[39;49m\u001B[43m_sock\u001B[49m\u001B[38;5;241;43m.\u001B[39;49m\u001B[43mrecv_into\u001B[49m\u001B[43m(\u001B[49m\u001B[43mb\u001B[49m\u001B[43m)\u001B[49m\n\u001B[0;32m    706\u001B[0m     \u001B[38;5;28;01mexcept\u001B[39;00m timeout:\n\u001B[0;32m    707\u001B[0m         \u001B[38;5;28mself\u001B[39m\u001B[38;5;241m.\u001B[39m_timeout_occurred \u001B[38;5;241m=\u001B[39m \u001B[38;5;28;01mTrue\u001B[39;00m\n",
      "File \u001B[1;32m~\\AppData\\Local\\Programs\\Python\\Python310\\lib\\ssl.py:1274\u001B[0m, in \u001B[0;36mSSLSocket.recv_into\u001B[1;34m(self, buffer, nbytes, flags)\u001B[0m\n\u001B[0;32m   1270\u001B[0m     \u001B[38;5;28;01mif\u001B[39;00m flags \u001B[38;5;241m!=\u001B[39m \u001B[38;5;241m0\u001B[39m:\n\u001B[0;32m   1271\u001B[0m         \u001B[38;5;28;01mraise\u001B[39;00m \u001B[38;5;167;01mValueError\u001B[39;00m(\n\u001B[0;32m   1272\u001B[0m           \u001B[38;5;124m\"\u001B[39m\u001B[38;5;124mnon-zero flags not allowed in calls to recv_into() on \u001B[39m\u001B[38;5;132;01m%s\u001B[39;00m\u001B[38;5;124m\"\u001B[39m \u001B[38;5;241m%\u001B[39m\n\u001B[0;32m   1273\u001B[0m           \u001B[38;5;28mself\u001B[39m\u001B[38;5;241m.\u001B[39m\u001B[38;5;18m__class__\u001B[39m)\n\u001B[1;32m-> 1274\u001B[0m     \u001B[38;5;28;01mreturn\u001B[39;00m \u001B[38;5;28;43mself\u001B[39;49m\u001B[38;5;241;43m.\u001B[39;49m\u001B[43mread\u001B[49m\u001B[43m(\u001B[49m\u001B[43mnbytes\u001B[49m\u001B[43m,\u001B[49m\u001B[43m \u001B[49m\u001B[43mbuffer\u001B[49m\u001B[43m)\u001B[49m\n\u001B[0;32m   1275\u001B[0m \u001B[38;5;28;01melse\u001B[39;00m:\n\u001B[0;32m   1276\u001B[0m     \u001B[38;5;28;01mreturn\u001B[39;00m \u001B[38;5;28msuper\u001B[39m()\u001B[38;5;241m.\u001B[39mrecv_into(buffer, nbytes, flags)\n",
      "File \u001B[1;32m~\\AppData\\Local\\Programs\\Python\\Python310\\lib\\ssl.py:1130\u001B[0m, in \u001B[0;36mSSLSocket.read\u001B[1;34m(self, len, buffer)\u001B[0m\n\u001B[0;32m   1128\u001B[0m \u001B[38;5;28;01mtry\u001B[39;00m:\n\u001B[0;32m   1129\u001B[0m     \u001B[38;5;28;01mif\u001B[39;00m buffer \u001B[38;5;129;01mis\u001B[39;00m \u001B[38;5;129;01mnot\u001B[39;00m \u001B[38;5;28;01mNone\u001B[39;00m:\n\u001B[1;32m-> 1130\u001B[0m         \u001B[38;5;28;01mreturn\u001B[39;00m \u001B[38;5;28;43mself\u001B[39;49m\u001B[38;5;241;43m.\u001B[39;49m\u001B[43m_sslobj\u001B[49m\u001B[38;5;241;43m.\u001B[39;49m\u001B[43mread\u001B[49m\u001B[43m(\u001B[49m\u001B[38;5;28;43mlen\u001B[39;49m\u001B[43m,\u001B[49m\u001B[43m \u001B[49m\u001B[43mbuffer\u001B[49m\u001B[43m)\u001B[49m\n\u001B[0;32m   1131\u001B[0m     \u001B[38;5;28;01melse\u001B[39;00m:\n\u001B[0;32m   1132\u001B[0m         \u001B[38;5;28;01mreturn\u001B[39;00m \u001B[38;5;28mself\u001B[39m\u001B[38;5;241m.\u001B[39m_sslobj\u001B[38;5;241m.\u001B[39mread(\u001B[38;5;28mlen\u001B[39m)\n",
      "\u001B[1;31mKeyboardInterrupt\u001B[0m: "
     ]
    }
   ],
   "source": [
    "#print(get_separated_images_folders_at_layer(service,top_path_id,[\"image/png\",\"image/jpg\"]))\n",
    "\n",
    "images = get_all_image_files(service,top_path_id,[\"image/png\",\"image/jpg\"])\n",
    "print(images)"
   ],
   "metadata": {
    "collapsed": false,
    "pycharm": {
     "name": "#%%\n"
    }
   }
  },
  {
   "cell_type": "code",
   "execution_count": 101,
   "outputs": [],
   "source": [
    "create_dataset_file(service,top_path_id,[\"image/png\",\"image/jpg\"],\"FFHQimages.csv\")"
   ],
   "metadata": {
    "collapsed": false,
    "pycharm": {
     "name": "#%%\n"
    }
   }
  },
  {
   "cell_type": "code",
   "execution_count": null,
   "outputs": [],
   "source": [],
   "metadata": {
    "collapsed": false,
    "pycharm": {
     "name": "#%%\n"
    }
   }
  }
 ],
 "metadata": {
  "kernelspec": {
   "display_name": "Python 3",
   "language": "python",
   "name": "python3"
  },
  "language_info": {
   "codemirror_mode": {
    "name": "ipython",
    "version": 2
   },
   "file_extension": ".py",
   "mimetype": "text/x-python",
   "name": "python",
   "nbconvert_exporter": "python",
   "pygments_lexer": "ipython2",
   "version": "2.7.6"
  }
 },
 "nbformat": 4,
 "nbformat_minor": 0
}