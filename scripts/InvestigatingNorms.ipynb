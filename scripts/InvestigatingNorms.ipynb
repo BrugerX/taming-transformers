{
 "cells": [
  {
   "cell_type": "markdown",
   "source": [
    "### Goal of this notebook: Investigate the relationship between the codebooks norm sizes and their frequency in our dataset\n",
    "\n",
    "Theory: Since codebook norms are initialized to be between 0 and 2 in the -1 to 1 square, we expect the codebooks to have the most information, that is; Those who have locked unto a latent variable representation, to be outside of this square and therefore have a norm greater than 2.\n",
    "\n",
    "Why it is important to investigate: When we normalize our latent variables, they're bound to land into the -1 to 1 square. If the density of codebooks in this square is very high (we have a lot of codebooks,) there could be a great deal of chance involved in whether or not a codebook stays locked unto a latent representation.\n",
    "\n",
    "This might result in sudden drifts between latent representation and codebooks, which is exploratorively speaking better, but which makes the training time take longer. As we do not have a lot of training time, we should try to avoid this.\n",
    "\n",
    "### Step 0:\n",
    "- Load the model\n",
    "- Prepare the dataloader\n",
    "\n",
    "### Step 1:\n",
    "- Load N samples\n",
    "- Pass them through the quantizer\n",
    "- Record which codebooks appear\n",
    "- Record the sizes of their norms\n",
    "\n",
    "### Step 2:\n",
    "- Visualize the overall distribution of codebook norms\n",
    "- Visualize the distribution of codebook norms dependent on our dataset"
   ],
   "metadata": {
    "collapsed": false,
    "pycharm": {
     "name": "#%% md\n"
    }
   }
  },
  {
   "cell_type": "code",
   "execution_count": 4,
   "outputs": [],
   "source": [
    "import pandas as pd\n",
    "from dataloader.gdrive.GDriveHandler import GDrive_Handler\n",
    "import numpy as np\n",
    "import pytorch_lightning.core as L\n",
    "from torch.utils.data import DataLoader,Dataset\n",
    "import dataloader.GDriveDataloading as GDTL\n",
    "import matplotlib.pyplot as plt\n",
    "import os\n",
    "import sys\n",
    "from PIL import Image,ImageShow\n",
    "import numpy as np\n",
    "import torch\n",
    "import seaborn as sb\n",
    "import matplotlib.pyplot as plt\n",
    "import yaml\n",
    "from omegaconf import OmegaConf\n",
    "import torchvision.transforms as transforms\n",
    "import matplotlib.pyplot as plt\n",
    "\n",
    "import main\n",
    "import taming.modules.losses.vqperceptual\n",
    "from taming.models.vqgan import LAPVQ\n",
    "from taming.models.cond_transformer import Net2NetTransformer"
   ],
   "metadata": {
    "collapsed": false,
    "pycharm": {
     "name": "#%%\n"
    }
   }
  },
  {
   "cell_type": "code",
   "execution_count": 44,
   "outputs": [
    {
     "name": "stdout",
     "output_type": "stream",
     "text": [
      "data:\n",
      "  params:\n",
      "    batch_size: 2\n",
      "    num_workers: 8\n",
      "    train:\n",
      "      params:\n",
      "        coord: true\n",
      "        crop_size: 256\n",
      "        size: 256\n",
      "      target: taming.data.faceshq.FacesHQTrain\n",
      "    validation:\n",
      "      params:\n",
      "        coord: true\n",
      "        crop_size: 256\n",
      "        size: 256\n",
      "      target: taming.data.faceshq.FacesHQValidation\n",
      "  target: main.DataModuleFromConfig\n",
      "model:\n",
      "  base_learning_rate: 4.5e-06\n",
      "  params:\n",
      "    cond_stage_config:\n",
      "      params:\n",
      "        down_factor: 16\n",
      "        n_embed: 1024\n",
      "      target: taming.modules.misc.coord.CoordStage\n",
      "    cond_stage_key: coord\n",
      "    first_stage_config:\n",
      "      params:\n",
      "        ckpt_path: C:\\Users\\DripTooHard\\PycharmProjects\\taming-transformers2\\configs\\faceshq.ckpt\n",
      "        ddconfig:\n",
      "          attn_resolutions:\n",
      "          - 16\n",
      "          ch: 128\n",
      "          ch_mult:\n",
      "          - 1\n",
      "          - 1\n",
      "          - 2\n",
      "          - 2\n",
      "          - 4\n",
      "          double_z: false\n",
      "          dropout: 0.0\n",
      "          in_channels: 3\n",
      "          num_res_blocks: 2\n",
      "          out_ch: 3\n",
      "          resolution: 256\n",
      "          z_channels: 256\n",
      "        embed_dim: 256\n",
      "        lossconfig:\n",
      "          params:\n",
      "            codebook_weight: 1.0\n",
      "            disc_conditional: false\n",
      "            disc_in_channels: 3\n",
      "            disc_start: 30001\n",
      "            disc_weight: 0.8\n",
      "          target: taming.modules.losses.vqperceptual.VQLPIPSWithDiscriminator\n",
      "        n_embed: 1024\n",
      "      target: taming.models.vqgan.LAPVQ\n",
      "    transformer_config:\n",
      "      params:\n",
      "        block_size: 512\n",
      "        n_embd: 1024\n",
      "        n_head: 16\n",
      "        n_layer: 24\n",
      "        vocab_size: 1024\n",
      "      target: taming.modules.transformer.mingpt.GPT\n",
      "  target: taming.models.cond_transformer.Net2NetTransformer\n",
      "\n",
      "Working with z of shape (1, 256, 16, 16) = 65536 dimensions.\n"
     ]
    },
    {
     "name": "stderr",
     "output_type": "stream",
     "text": [
      "C:\\Users\\DripTooHard\\PycharmProjects\\taming-transformers2\\venv\\lib\\site-packages\\torchvision\\models\\_utils.py:208: UserWarning: The parameter 'pretrained' is deprecated since 0.13 and may be removed in the future, please use 'weights' instead.\n",
      "  warnings.warn(\n",
      "C:\\Users\\DripTooHard\\PycharmProjects\\taming-transformers2\\venv\\lib\\site-packages\\torchvision\\models\\_utils.py:223: UserWarning: Arguments other than a weight enum or `None` for 'weights' are deprecated since 0.13 and may be removed in the future. The current behavior is equivalent to passing `weights=VGG16_Weights.IMAGENET1K_V1`. You can also use `weights=VGG16_Weights.DEFAULT` to get the most up-to-date weights.\n",
      "  warnings.warn(msg)\n"
     ]
    },
    {
     "name": "stdout",
     "output_type": "stream",
     "text": [
      "loaded pretrained LPIPS loss from taming/modules/autoencoder/lpips\\vgg.pth\n",
      "VQLPIPSWithDiscriminator running with hinge loss.\n"
     ]
    }
   ],
   "source": [
    "# Prepare CelebAHQ configurations\n",
    "config_path = fr\"C:\\Users\\DripTooHard\\PycharmProjects\\taming-transformers2\\configs\\faceshq_transformer.yaml\"\n",
    "celebAHQ_config = OmegaConf.load(config_path)\n",
    "print(yaml.dump(OmegaConf.to_container(celebAHQ_config)))\n",
    "\n",
    "# Init model with the chosen architecture and configurations\n",
    "model = Net2NetTransformer(**celebAHQ_config.model.params)"
   ],
   "metadata": {
    "collapsed": false,
    "pycharm": {
     "name": "#%%\n"
    }
   }
  },
  {
   "cell_type": "code",
   "execution_count": 46,
   "outputs": [
    {
     "ename": "RuntimeError",
     "evalue": "Error(s) in loading state_dict for Net2NetTransformer:\n\tMissing key(s) in state_dict: \"first_stage_model.loss.perceptual_loss.scaling_layer.shift\", \"first_stage_model.loss.perceptual_loss.scaling_layer.scale\", \"first_stage_model.loss.perceptual_loss.net.slice1.0.weight\", \"first_stage_model.loss.perceptual_loss.net.slice1.0.bias\", \"first_stage_model.loss.perceptual_loss.net.slice1.2.weight\", \"first_stage_model.loss.perceptual_loss.net.slice1.2.bias\", \"first_stage_model.loss.perceptual_loss.net.slice2.5.weight\", \"first_stage_model.loss.perceptual_loss.net.slice2.5.bias\", \"first_stage_model.loss.perceptual_loss.net.slice2.7.weight\", \"first_stage_model.loss.perceptual_loss.net.slice2.7.bias\", \"first_stage_model.loss.perceptual_loss.net.slice3.10.weight\", \"first_stage_model.loss.perceptual_loss.net.slice3.10.bias\", \"first_stage_model.loss.perceptual_loss.net.slice3.12.weight\", \"first_stage_model.loss.perceptual_loss.net.slice3.12.bias\", \"first_stage_model.loss.perceptual_loss.net.slice3.14.weight\", \"first_stage_model.loss.perceptual_loss.net.slice3.14.bias\", \"first_stage_model.loss.perceptual_loss.net.slice4.17.weight\", \"first_stage_model.loss.perceptual_loss.net.slice4.17.bias\", \"first_stage_model.loss.perceptual_loss.net.slice4.19.weight\", \"first_stage_model.loss.perceptual_loss.net.slice4.19.bias\", \"first_stage_model.loss.perceptual_loss.net.slice4.21.weight\", \"first_stage_model.loss.perceptual_loss.net.slice4.21.bias\", \"first_stage_model.loss.perceptual_loss.net.slice5.24.weight\", \"first_stage_model.loss.perceptual_loss.net.slice5.24.bias\", \"first_stage_model.loss.perceptual_loss.net.slice5.26.weight\", \"first_stage_model.loss.perceptual_loss.net.slice5.26.bias\", \"first_stage_model.loss.perceptual_loss.net.slice5.28.weight\", \"first_stage_model.loss.perceptual_loss.net.slice5.28.bias\", \"first_stage_model.loss.perceptual_loss.lin0.model.1.weight\", \"first_stage_model.loss.perceptual_loss.lin1.model.1.weight\", \"first_stage_model.loss.perceptual_loss.lin2.model.1.weight\", \"first_stage_model.loss.perceptual_loss.lin3.model.1.weight\", \"first_stage_model.loss.perceptual_loss.lin4.model.1.weight\", \"first_stage_model.loss.discriminator.main.0.weight\", \"first_stage_model.loss.discriminator.main.0.bias\", \"first_stage_model.loss.discriminator.main.2.weight\", \"first_stage_model.loss.discriminator.main.3.weight\", \"first_stage_model.loss.discriminator.main.3.bias\", \"first_stage_model.loss.discriminator.main.3.running_mean\", \"first_stage_model.loss.discriminator.main.3.running_var\", \"first_stage_model.loss.discriminator.main.5.weight\", \"first_stage_model.loss.discriminator.main.6.weight\", \"first_stage_model.loss.discriminator.main.6.bias\", \"first_stage_model.loss.discriminator.main.6.running_mean\", \"first_stage_model.loss.discriminator.main.6.running_var\", \"first_stage_model.loss.discriminator.main.8.weight\", \"first_stage_model.loss.discriminator.main.9.weight\", \"first_stage_model.loss.discriminator.main.9.bias\", \"first_stage_model.loss.discriminator.main.9.running_mean\", \"first_stage_model.loss.discriminator.main.9.running_var\", \"first_stage_model.loss.discriminator.main.11.weight\", \"first_stage_model.loss.discriminator.main.11.bias\". ",
     "output_type": "error",
     "traceback": [
      "\u001B[1;31m---------------------------------------------------------------------------\u001B[0m",
      "\u001B[1;31mRuntimeError\u001B[0m                              Traceback (most recent call last)",
      "Cell \u001B[1;32mIn[46], line 4\u001B[0m\n\u001B[0;32m      2\u001B[0m ckpt_path \u001B[38;5;241m=\u001B[39m \u001B[38;5;124mr\u001B[39m\u001B[38;5;124m\"\u001B[39m\u001B[38;5;124mC:\u001B[39m\u001B[38;5;124m\\\u001B[39m\u001B[38;5;124mUsers\u001B[39m\u001B[38;5;124m\\\u001B[39m\u001B[38;5;124mDripTooHard\u001B[39m\u001B[38;5;124m\\\u001B[39m\u001B[38;5;124mPycharmProjects\u001B[39m\u001B[38;5;124m\\\u001B[39m\u001B[38;5;124mtaming-transformers2\u001B[39m\u001B[38;5;124m\\\u001B[39m\u001B[38;5;124mconfigs\u001B[39m\u001B[38;5;124m\\\u001B[39m\u001B[38;5;124mfaceshq.ckpt\u001B[39m\u001B[38;5;124m\"\u001B[39m\n\u001B[0;32m      3\u001B[0m sd \u001B[38;5;241m=\u001B[39m torch\u001B[38;5;241m.\u001B[39mload(ckpt_path, map_location\u001B[38;5;241m=\u001B[39m\u001B[38;5;124m\"\u001B[39m\u001B[38;5;124mcpu\u001B[39m\u001B[38;5;124m\"\u001B[39m)[\u001B[38;5;124m\"\u001B[39m\u001B[38;5;124mstate_dict\u001B[39m\u001B[38;5;124m\"\u001B[39m]\n\u001B[1;32m----> 4\u001B[0m \u001B[43mmodel\u001B[49m\u001B[38;5;241;43m.\u001B[39;49m\u001B[43mload_state_dict\u001B[49m\u001B[43m(\u001B[49m\u001B[43msd\u001B[49m\u001B[43m)\u001B[49m\n\u001B[0;32m      5\u001B[0m missing, unexpected \u001B[38;5;241m=\u001B[39m model\u001B[38;5;241m.\u001B[39mload_state_dict(sd, strict\u001B[38;5;241m=\u001B[39m\u001B[38;5;28;01mFalse\u001B[39;00m)\n\u001B[0;32m      7\u001B[0m \u001B[38;5;66;03m#Put model in evaluation mode\u001B[39;00m\n",
      "File \u001B[1;32m~\\PycharmProjects\\taming-transformers2\\venv\\lib\\site-packages\\torch\\nn\\modules\\module.py:2152\u001B[0m, in \u001B[0;36mModule.load_state_dict\u001B[1;34m(self, state_dict, strict, assign)\u001B[0m\n\u001B[0;32m   2147\u001B[0m         error_msgs\u001B[38;5;241m.\u001B[39minsert(\n\u001B[0;32m   2148\u001B[0m             \u001B[38;5;241m0\u001B[39m, \u001B[38;5;124m'\u001B[39m\u001B[38;5;124mMissing key(s) in state_dict: \u001B[39m\u001B[38;5;132;01m{}\u001B[39;00m\u001B[38;5;124m. \u001B[39m\u001B[38;5;124m'\u001B[39m\u001B[38;5;241m.\u001B[39mformat(\n\u001B[0;32m   2149\u001B[0m                 \u001B[38;5;124m'\u001B[39m\u001B[38;5;124m, \u001B[39m\u001B[38;5;124m'\u001B[39m\u001B[38;5;241m.\u001B[39mjoin(\u001B[38;5;124mf\u001B[39m\u001B[38;5;124m'\u001B[39m\u001B[38;5;124m\"\u001B[39m\u001B[38;5;132;01m{\u001B[39;00mk\u001B[38;5;132;01m}\u001B[39;00m\u001B[38;5;124m\"\u001B[39m\u001B[38;5;124m'\u001B[39m \u001B[38;5;28;01mfor\u001B[39;00m k \u001B[38;5;129;01min\u001B[39;00m missing_keys)))\n\u001B[0;32m   2151\u001B[0m \u001B[38;5;28;01mif\u001B[39;00m \u001B[38;5;28mlen\u001B[39m(error_msgs) \u001B[38;5;241m>\u001B[39m \u001B[38;5;241m0\u001B[39m:\n\u001B[1;32m-> 2152\u001B[0m     \u001B[38;5;28;01mraise\u001B[39;00m \u001B[38;5;167;01mRuntimeError\u001B[39;00m(\u001B[38;5;124m'\u001B[39m\u001B[38;5;124mError(s) in loading state_dict for \u001B[39m\u001B[38;5;132;01m{}\u001B[39;00m\u001B[38;5;124m:\u001B[39m\u001B[38;5;130;01m\\n\u001B[39;00m\u001B[38;5;130;01m\\t\u001B[39;00m\u001B[38;5;132;01m{}\u001B[39;00m\u001B[38;5;124m'\u001B[39m\u001B[38;5;241m.\u001B[39mformat(\n\u001B[0;32m   2153\u001B[0m                        \u001B[38;5;28mself\u001B[39m\u001B[38;5;241m.\u001B[39m\u001B[38;5;18m__class__\u001B[39m\u001B[38;5;241m.\u001B[39m\u001B[38;5;18m__name__\u001B[39m, \u001B[38;5;124m\"\u001B[39m\u001B[38;5;130;01m\\n\u001B[39;00m\u001B[38;5;130;01m\\t\u001B[39;00m\u001B[38;5;124m\"\u001B[39m\u001B[38;5;241m.\u001B[39mjoin(error_msgs)))\n\u001B[0;32m   2154\u001B[0m \u001B[38;5;28;01mreturn\u001B[39;00m _IncompatibleKeys(missing_keys, unexpected_keys)\n",
      "\u001B[1;31mRuntimeError\u001B[0m: Error(s) in loading state_dict for Net2NetTransformer:\n\tMissing key(s) in state_dict: \"first_stage_model.loss.perceptual_loss.scaling_layer.shift\", \"first_stage_model.loss.perceptual_loss.scaling_layer.scale\", \"first_stage_model.loss.perceptual_loss.net.slice1.0.weight\", \"first_stage_model.loss.perceptual_loss.net.slice1.0.bias\", \"first_stage_model.loss.perceptual_loss.net.slice1.2.weight\", \"first_stage_model.loss.perceptual_loss.net.slice1.2.bias\", \"first_stage_model.loss.perceptual_loss.net.slice2.5.weight\", \"first_stage_model.loss.perceptual_loss.net.slice2.5.bias\", \"first_stage_model.loss.perceptual_loss.net.slice2.7.weight\", \"first_stage_model.loss.perceptual_loss.net.slice2.7.bias\", \"first_stage_model.loss.perceptual_loss.net.slice3.10.weight\", \"first_stage_model.loss.perceptual_loss.net.slice3.10.bias\", \"first_stage_model.loss.perceptual_loss.net.slice3.12.weight\", \"first_stage_model.loss.perceptual_loss.net.slice3.12.bias\", \"first_stage_model.loss.perceptual_loss.net.slice3.14.weight\", \"first_stage_model.loss.perceptual_loss.net.slice3.14.bias\", \"first_stage_model.loss.perceptual_loss.net.slice4.17.weight\", \"first_stage_model.loss.perceptual_loss.net.slice4.17.bias\", \"first_stage_model.loss.perceptual_loss.net.slice4.19.weight\", \"first_stage_model.loss.perceptual_loss.net.slice4.19.bias\", \"first_stage_model.loss.perceptual_loss.net.slice4.21.weight\", \"first_stage_model.loss.perceptual_loss.net.slice4.21.bias\", \"first_stage_model.loss.perceptual_loss.net.slice5.24.weight\", \"first_stage_model.loss.perceptual_loss.net.slice5.24.bias\", \"first_stage_model.loss.perceptual_loss.net.slice5.26.weight\", \"first_stage_model.loss.perceptual_loss.net.slice5.26.bias\", \"first_stage_model.loss.perceptual_loss.net.slice5.28.weight\", \"first_stage_model.loss.perceptual_loss.net.slice5.28.bias\", \"first_stage_model.loss.perceptual_loss.lin0.model.1.weight\", \"first_stage_model.loss.perceptual_loss.lin1.model.1.weight\", \"first_stage_model.loss.perceptual_loss.lin2.model.1.weight\", \"first_stage_model.loss.perceptual_loss.lin3.model.1.weight\", \"first_stage_model.loss.perceptual_loss.lin4.model.1.weight\", \"first_stage_model.loss.discriminator.main.0.weight\", \"first_stage_model.loss.discriminator.main.0.bias\", \"first_stage_model.loss.discriminator.main.2.weight\", \"first_stage_model.loss.discriminator.main.3.weight\", \"first_stage_model.loss.discriminator.main.3.bias\", \"first_stage_model.loss.discriminator.main.3.running_mean\", \"first_stage_model.loss.discriminator.main.3.running_var\", \"first_stage_model.loss.discriminator.main.5.weight\", \"first_stage_model.loss.discriminator.main.6.weight\", \"first_stage_model.loss.discriminator.main.6.bias\", \"first_stage_model.loss.discriminator.main.6.running_mean\", \"first_stage_model.loss.discriminator.main.6.running_var\", \"first_stage_model.loss.discriminator.main.8.weight\", \"first_stage_model.loss.discriminator.main.9.weight\", \"first_stage_model.loss.discriminator.main.9.bias\", \"first_stage_model.loss.discriminator.main.9.running_mean\", \"first_stage_model.loss.discriminator.main.9.running_var\", \"first_stage_model.loss.discriminator.main.11.weight\", \"first_stage_model.loss.discriminator.main.11.bias\". "
     ]
    }
   ],
   "source": [
    "#Load checkpoints\n",
    "ckpt_path = r\"C:\\Users\\DripTooHard\\PycharmProjects\\taming-transformers2\\configs\\faceshq.ckpt\"\n",
    "sd = torch.load(ckpt_path, map_location=\"cpu\")[\"state_dict\"]\n",
    "model.load_state_dict(sd)\n",
    "missing, unexpected = model.load_state_dict(sd, strict=False)\n",
    "\n",
    "#Put model in evaluation mode\n",
    "model.eval()\n",
    "torch.set_grad_enabled(False)"
   ],
   "metadata": {
    "collapsed": false,
    "pycharm": {
     "name": "#%%\n"
    }
   }
  },
  {
   "cell_type": "code",
   "execution_count": null,
   "outputs": [],
   "source": [
    "#Initializing the dataloader\n",
    "ID_DF_Path = r\"C:\\Users\\DripTooHard\\PycharmProjects\\taming-transformers2\\scripts\\dataloader\\gdrive\\FFHQimages.csv\"\n",
    "config_path = r\"C:\\Users\\DripTooHard\\PycharmProjects\\taming-transformers2\\configs\\gdrive_FFHQ.yaml\"\n",
    "scopes = [\"https://www.googleapis.com/auth/drive.readonly\"]\n",
    "creds_path = r\"C:\\Users\\DripTooHard\\PycharmProjects\\taming-transformers2\\scripts\\dataloader\\gdrive\\deep-learning-2023-405822-135193813109.json\"\n",
    "access_token_path = r\"C:\\Users\\DripTooHard\\PycharmProjects\\taming-transformers2\\scripts\\dataloader\\test.json\"\n",
    "\n",
    "GDDataloader = GDTL.ImagesDatamodule(ID_DF_Path,scopes,creds_path,num_workers=0,batch_size=1)\n",
    "prop_dict = dict({\"val\":0.1,\"test\":0.1,\"train\":0.8})\n",
    "GDDataloader.setup(prop_dict)\n",
    "\n",
    "train_dataloader = iter(GDDataloader.train_dataloader())\n",
    "#We visualize the image\n",
    "plt.imshow(next(train_dataloader)[0].permute(1,2,0))"
   ],
   "metadata": {
    "collapsed": false,
    "pycharm": {
     "name": "#%%\n"
    }
   }
  },
  {
   "cell_type": "markdown",
   "source": [
    "### Getting empirical codebooks\n"
   ],
   "metadata": {
    "collapsed": false,
    "pycharm": {
     "name": "#%% md\n"
    }
   }
  },
  {
   "cell_type": "code",
   "execution_count": null,
   "outputs": [],
   "source": [
    "#number of samples we want\n",
    "N= 100\n",
    "\n",
    "# DataFrame to store vectors and their norms\n",
    "empirical_norms = []\n",
    "\n",
    "#Get N samples\n",
    "for n in range(N):\n",
    "    image = next(train_dataloader)\n",
    "    encoded_z = model.first_stage_model.encoder(image)\n",
    "    zq = encoded_z.permute(0,2,3,1)\n",
    "\n",
    "    # List to store the vectors\n",
    "    vectors = []\n",
    "\n",
    "    # Iterate over the 64x64 grid\n",
    "    for i in range(zq.shape[1]):   # iterating over the first 64\n",
    "        for j in range(zq.shape[2]):   # iterating over the second 64\n",
    "            # Extract the vector and store it\n",
    "            vector = zq[0, i, j, :]   # this gives you the [256] vector\n",
    "\n",
    "            norm = np.linalg.norm(vector)\n",
    "            above_abs_1 = [x for x in vector if abs(x)>1]\n",
    "            percentage_above_1 = len(above_abs_1)/len(vector)\n",
    "            # Append to the DataFrame\n",
    "            empirical_norms.append({'Vector': vector, 'Norm': norm,\"Normalized norm\":norm/256,'Percentage_above_1':percentage_above_1})\n",
    "\n",
    "\n",
    "\n",
    "empirical_norms_DF = pd.DataFrame.from_dict(empirical_norms)"
   ],
   "metadata": {
    "collapsed": false,
    "pycharm": {
     "name": "#%%\n"
    }
   }
  },
  {
   "cell_type": "code",
   "execution_count": null,
   "outputs": [],
   "source": [
    "sb.histplot(empirical_norms_DF[\"Normalized norm\"],stat=\"probability\")"
   ],
   "metadata": {
    "collapsed": false,
    "pycharm": {
     "name": "#%%\n"
    }
   }
  },
  {
   "cell_type": "code",
   "execution_count": null,
   "outputs": [],
   "source": [
    "sb.histplot(empirical_norms_DF[\"Norm\"],stat=\"probability\")"
   ],
   "metadata": {
    "collapsed": false,
    "pycharm": {
     "name": "#%%\n"
    }
   }
  },
  {
   "cell_type": "code",
   "execution_count": null,
   "outputs": [],
   "source": [
    "sb.histplot(empirical_norms_DF[\"Percentage_above_1\"],stat=\"probability\",bins=200)"
   ],
   "metadata": {
    "collapsed": false,
    "pycharm": {
     "name": "#%%\n"
    }
   }
  },
  {
   "cell_type": "code",
   "execution_count": null,
   "outputs": [],
   "source": [
    "empirical_norms_DF.to_csv(\"empirical_norms_FFHQ_pretrained\")"
   ],
   "metadata": {
    "collapsed": false,
    "pycharm": {
     "name": "#%%\n"
    }
   }
  },
  {
   "cell_type": "code",
   "execution_count": 55,
   "outputs": [
    {
     "data": {
      "text/plain": "<Axes: ylabel='Probability'>"
     },
     "execution_count": 55,
     "metadata": {},
     "output_type": "execute_result"
    },
    {
     "data": {
      "text/plain": "<Figure size 640x480 with 1 Axes>",
      "image/png": "[encoded data removed]"
     },
     "metadata": {},
     "output_type": "display_data"
    }
   ],
   "source": [
    "#We look at the codebook to check whether or not it ressembles a normal distribution around 0.\n",
    "\n",
    "norms = []\n",
    "\n",
    "#Uncomment the code below to get a graph of how the freshly initialized codebook should look.\n",
    "model.first_stage_model.quantize.embedding.weight.data.uniform_(-1.0/(model.first_stage_model.quantize.n_e),1/(model.first_stage_model.quantize.n_e))\n",
    "\n",
    "for codebook in model.first_stage_model.quantize.parameters():\n",
    "    for zq_codebook in codebook:\n",
    "        norms += [np.linalg.norm(zq_codebook)]\n",
    "\n",
    "#We know for a fact, that all norms will be equal to or less than 2 if it has just been instantiated\n",
    "#assert(len([norm for norm in norms if norm>2])>0)\n",
    "\n",
    "sb.histplot(norms,bins=20,stat=\"probability\")"
   ],
   "metadata": {
    "collapsed": false,
    "pycharm": {
     "name": "#%%\n"
    }
   }
  },
  {
   "cell_type": "code",
   "execution_count": null,
   "outputs": [],
   "source": [],
   "metadata": {
    "collapsed": false,
    "pycharm": {
     "name": "#%%\n"
    }
   }
  }
 ],
 "metadata": {
  "kernelspec": {
   "display_name": "Python 3",
   "language": "python",
   "name": "python3"
  },
  "language_info": {
   "codemirror_mode": {
    "name": "ipython",
    "version": 2
   },
   "file_extension": ".py",
   "mimetype": "text/x-python",
   "name": "python",
   "nbconvert_exporter": "python",
   "pygments_lexer": "ipython2",
   "version": "2.7.6"
  }
 },
 "nbformat": 4,
 "nbformat_minor": 0
}